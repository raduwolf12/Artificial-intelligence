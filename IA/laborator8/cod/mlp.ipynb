{
 "cells": [
  {
   "cell_type": "markdown",
   "metadata": {},
   "source": [
    "## Taraburca Radu grupa 383"
   ]
  },
  {
   "cell_type": "markdown",
   "metadata": {},
   "source": [
    "# Load data"
   ]
  },
  {
   "cell_type": "code",
   "execution_count": 16,
   "metadata": {
    "ExecuteTime": {
     "end_time": "2020-04-15T05:32:33.688762Z",
     "start_time": "2020-04-15T05:32:33.683775Z"
    }
   },
   "outputs": [],
   "source": [
    "import numpy as np\n",
    "import pandas as pd\n",
    "import matplotlib.pyplot as plt\n",
    "\n",
    "from typing import Tuple, List, Callable"
   ]
  },
  {
   "cell_type": "code",
   "execution_count": 91,
   "metadata": {
    "ExecuteTime": {
     "end_time": "2020-04-15T05:32:33.703722Z",
     "start_time": "2020-04-15T05:32:33.694747Z"
    }
   },
   "outputs": [],
   "source": [
    "def load_file(path: str) -> Tuple[np.ndarray, np.ndarray]:\n",
    "    \"\"\"Loads the data from the file stored at :param path: and returns the \n",
    "    input values and the class labels.\n",
    "    :param path: path of a CVS file with data\n",
    "    :return: a tuple containing the input matrix of shape (n, p) and a line \n",
    "    vector with the m class labels in {0, ..., 9}\n",
    "    \"\"\"\n",
    "    # citire date sin fisierul dat de path\n",
    "    df = pd.read_csv(path,header=None)\n",
    "    X = df.values[:,1:].T\n",
    "    y = df.values[:,0].reshape(len(df),1).T\n",
    "    assert X.ndim ==  2, 'Matrix required for input values'\n",
    "    assert y.ndim == 2, 'Column matrix required for labels'\n",
    "    assert y.shape == (1, X.shape[1]), 'Same number of lines is required'\n",
    "    return X, y"
   ]
  },
  {
   "cell_type": "code",
   "execution_count": 92,
   "metadata": {
    "ExecuteTime": {
     "end_time": "2020-04-15T05:32:33.710703Z",
     "start_time": "2020-04-15T05:32:33.706715Z"
    }
   },
   "outputs": [],
   "source": [
    "path_train = './data/mnist_train.csv'\n",
    "path_test = './data/mnist_test.csv'"
   ]
  },
  {
   "cell_type": "code",
   "execution_count": 94,
   "metadata": {
    "ExecuteTime": {
     "end_time": "2020-04-15T05:32:38.182596Z",
     "start_time": "2020-04-15T05:32:33.713696Z"
    }
   },
   "outputs": [],
   "source": [
    "X_train, y_train = load_file(path_train)\n",
    "assert X_train.shape == (784, 60000)\n",
    "assert y_train.shape == (1, 60000)\n",
    "\n",
    "X_test, y_test = load_file(path_test)\n",
    "assert X_test.shape == (784, 10000)\n",
    "assert y_test.shape == (1, 10000)"
   ]
  },
  {
   "cell_type": "code",
   "execution_count": 95,
   "metadata": {
    "ExecuteTime": {
     "end_time": "2020-04-15T05:32:38.194562Z",
     "start_time": "2020-04-15T05:32:38.184589Z"
    }
   },
   "outputs": [],
   "source": [
    "def scale_values(X: np.ndarray) -> np.ndarray:\n",
    "    \"\"\"Scales the values to range [0, 1].\n",
    "    :param X: an (m, n) matrix with values between 0 and 255.\n",
    "    :return: an (m, n) matrix containing values of :param X: scaled in [0, 1]\n",
    "    \"\"\"\n",
    "    result = X/255\n",
    "    assert 0 <= np.min(result) <= np.max(result) <= 1, 'Scaled values should be in [0, 1]'\n",
    "    assert X.shape == result.shape, 'Scaling preserves shape'\n",
    "    return result"
   ]
  },
  {
   "cell_type": "code",
   "execution_count": 96,
   "metadata": {
    "ExecuteTime": {
     "end_time": "2020-04-15T05:32:38.531663Z",
     "start_time": "2020-04-15T05:32:38.203540Z"
    }
   },
   "outputs": [],
   "source": [
    "X_train = scale_values(X_train)\n",
    "assert X_train.shape == (784, 60000)\n",
    "X_test = scale_values(X_test)\n",
    "assert X_test.shape == (784, 10000)"
   ]
  },
  {
   "cell_type": "markdown",
   "metadata": {
    "ExecuteTime": {
     "end_time": "2019-11-24T15:41:07.997557Z",
     "start_time": "2019-11-24T15:41:07.991110Z"
    }
   },
   "source": [
    "# Create model"
   ]
  },
  {
   "cell_type": "markdown",
   "metadata": {},
   "source": [
    "## Define model's architecture"
   ]
  },
  {
   "cell_type": "code",
   "execution_count": 97,
   "metadata": {
    "ExecuteTime": {
     "end_time": "2020-04-15T05:32:38.541636Z",
     "start_time": "2020-04-15T05:32:38.535651Z"
    }
   },
   "outputs": [],
   "source": [
    "m = 10 # number of classes\n",
    "n, p = X_train.shape\n",
    "architecture = [n, 100, m] # list: [input_size, hidden1, hidden2, ..., output_size]\n",
    "\n",
    "assert len(architecture) >= 3, 'At least one hidden layer'\n",
    "assert architecture[0] == n\n",
    "assert architecture[-1] == m"
   ]
  },
  {
   "cell_type": "markdown",
   "metadata": {},
   "source": [
    "Ponderile sunt initializate conform strategiei lui Xavier Glorot. Pentru o matrice de ponderi $W^{[l]}$ de forma $n_{l} \\times n_{l-1}$, ponderile pot fi initializate cu o distributie uniforma in intervalul \n",
    "$$\n",
    "\\left[-\\frac{\\sqrt{6}}{\\sqrt{n_{l} + n_{l-1}}}, +\\frac{\\sqrt{6}}{\\sqrt{n_{l} + n_{l-1}}}\\right]\n",
    "$$\n",
    "\n",
    "Ponderile de bias se obisnuiesc a se initializa cu 0; intializarea aleatoare a ponderilor W este considerata suficienta pentru a obtine spargerea simetriei.\n",
    "\n",
    "Ref: [Understanding the difficulty of training deep feedforward neural networks](http://proceedings.mlr.press/v9/glorot10a/glorot10a.pdf)"
   ]
  },
  {
   "cell_type": "code",
   "execution_count": 98,
   "metadata": {
    "ExecuteTime": {
     "end_time": "2020-04-15T05:32:38.567564Z",
     "start_time": "2020-04-15T05:32:38.545624Z"
    }
   },
   "outputs": [],
   "source": [
    "def create_weights(architecture: List[int], init_type:str='glorot_uniform') -> Tuple[List[np.array], List[np.array]]:\n",
    "    \"\"\"Creates the list of weights and biases for the given architecture.\n",
    "    :param architecture: list of number of nodes in each layer \n",
    "    (including input and ouotput layers)\n",
    "    :param init_type: name of initialization parameter. Defaults to \n",
    "    'glorot_uniform', add other supported initializtion strategies.\n",
    "    :return: a tuple containing: list of weight matrices W, a list of bias \n",
    "    column vectors. The two lists have the same numer of elements, number of \n",
    "    layers - 1.\n",
    "    \"\"\"\n",
    "    L = len(architecture)\n",
    "    W, b = [], []\n",
    "    # initializare de ponderi\n",
    "    for n_lplus1, nl in zip(architecture[1:], architecture[:-1]):\n",
    "        W.append(\n",
    "            np.random.uniform(\n",
    "                -np.sqrt(6)/np.sqrt(n_lplus1+ nl),\n",
    "                np.sqrt(6)/np.sqrt(n_lplus1+ nl),\n",
    "                n_lplus1*nl).reshape(n_lplus1,nl),\n",
    "        )\n",
    "        #... scrieti cod\n",
    "    for n_l in architecture[1:]:\n",
    "        b.append(np.zeros_like(np.arange(n_l)).reshape(n_l, 1))# scrieti cod\n",
    "    assert len(W) == len(b) == L-1\n",
    "    for i, w in enumerate(W):\n",
    "        assert w.shape == (architecture[i+1], architecture[i]), f'Shape of W[{i}] should be ({L[i+1], L[i]})'\n",
    "    for i, _b in enumerate(b):\n",
    "        assert _b.shape == (architecture[i+1], 1), f'Shape of b[{i}] should be ({L[i+1]}, 1)'\n",
    "    if init_type == 'glorot_uniform':\n",
    "        for i, w in enumerate(W):\n",
    "            w_shape_sum = np.sum(w.shape)\n",
    "            assert -np.sqrt(6)/np.sqrt(w_shape_sum) <= np.min(w) <= np.sqrt(6)/np.sqrt(w_shape_sum), f\"Values of W[{i}] should be according to Glorot's initialization\"\n",
    "        for i, _b in enumerate(b):\n",
    "            assert 0 == np.min(_b) == np.min(_b) == 0, f\"Values of b[{i}] should be initialized to 0\"\n",
    "    return W, b"
   ]
  },
  {
   "cell_type": "code",
   "execution_count": 100,
   "metadata": {
    "ExecuteTime": {
     "end_time": "2020-04-15T05:32:38.584519Z",
     "start_time": "2020-04-15T05:32:38.569559Z"
    }
   },
   "outputs": [],
   "source": [
    "def sigmoid(z: np.array) -> np.array:\n",
    "    \"\"\"Computes sigmoid activation function\"\"\"\n",
    "    return 1 / (1 + np.exp(-z))\n",
    "\n",
    "def derivate_sigmoid(z: np.array) -> np.array:\n",
    "    \"\"\"Computes the derivatives for the sigmoid activation function\"\"\"\n",
    "    return sigmoid(z) * (1 - sigmoid(z))\n",
    "\n",
    "def tanh(z: np.array) -> np.array:\n",
    "    \"\"\"Computes the tanh activation function\"\"\"\n",
    "    return (np.exp(z) - np.exp(-z)) / (np.exp(z) + np.exp(-z))\n",
    "\n",
    "def derivate_tanh(z: np.array) -> np.array:\n",
    "    \"\"\"Computes the derivatives for the tanh activation function\"\"\"\n",
    "    return 1 - tanh(z) ** 2\n",
    "\n",
    "def ReLU(z: np.array) -> np.array:\n",
    "    \"\"\"Computes the rectified linear unit activation function\"\"\"\n",
    "    return np.where(z > 0, [z, 0])\n",
    "\n",
    "def derivative_ReLU(z: np.array) -> np.array:\n",
    "    \"\"\"Computes the derivatives of the rectified linear unit activation function\"\"\"\n",
    "    return np.where(z > 0, [1, 0])"
   ]
  },
  {
   "cell_type": "code",
   "execution_count": 101,
   "metadata": {
    "ExecuteTime": {
     "end_time": "2020-04-15T05:32:38.596496Z",
     "start_time": "2020-04-15T05:32:38.589506Z"
    }
   },
   "outputs": [],
   "source": [
    "def softmax(z, axis=0):\n",
    "    \"\"\"Applies softmax to a matrix z.\n",
    "    :param z: np.array of shape (m, k)\n",
    "    \"\"\"\n",
    "    # scrieti cod, posibil mai multe linii\n",
    "    result = np.exp(z) / np.sum(np.exp(z), axis=axis)\n",
    "    assert np.allclose(np.sum(result, axis=axis), 1.0)\n",
    "    return result"
   ]
  },
  {
   "cell_type": "code",
   "execution_count": 102,
   "metadata": {
    "ExecuteTime": {
     "end_time": "2020-04-15T05:32:38.609453Z",
     "start_time": "2020-04-15T05:32:38.599481Z"
    }
   },
   "outputs": [],
   "source": [
    "W, b = create_weights(architecture=architecture)"
   ]
  },
  {
   "cell_type": "markdown",
   "metadata": {},
   "source": [
    "## Feedforward propagation"
   ]
  },
  {
   "cell_type": "code",
   "execution_count": 103,
   "metadata": {
    "ExecuteTime": {
     "end_time": "2020-04-15T15:54:14.739424Z",
     "start_time": "2020-04-15T15:54:14.320545Z"
    }
   },
   "outputs": [],
   "source": [
    "def can_multiply(a:np.array, b:np.array) -> bool:\n",
    "    return a.ndim == b.ndim == 2 and a.shape[1] == b.shape[0]\n",
    "\n",
    "def can_multiply_hadamard(a:np.array, b:np.array) -> bool:\n",
    "    return a.shape == b.shape"
   ]
  },
  {
   "cell_type": "code",
   "execution_count": 104,
   "metadata": {},
   "outputs": [],
   "source": [
    "Z=[]\n",
    "A=[]"
   ]
  },
  {
   "cell_type": "code",
   "execution_count": 105,
   "metadata": {
    "ExecuteTime": {
     "end_time": "2020-04-15T05:32:38.636381Z",
     "start_time": "2020-04-15T05:32:38.624413Z"
    }
   },
   "outputs": [],
   "source": [
    "def model(X:np.array, W:List[np.array], b:List[np.array], f:List[Callable]) -> np.array:\n",
    "    \"\"\"Computes the output produced by the MLP for the given input X\n",
    "    :param X: np.array of shape (n, p). Each column of X is a datum from a set.\n",
    "    :param W: a list of weight matrices\n",
    "    :param b: a list of bias columns\n",
    "    :param f: a list of activation functions\n",
    "    :return: a matrix of output values produced by MLP, of shape: number of \n",
    "    predicted outputs (e.g. classes), number of input vectors p\n",
    "    \"\"\"\n",
    "    assert len(W) == len(b) == len(f)\n",
    "    p = X.shape[1]\n",
    "    a = X\n",
    "    for i, (_w, _b, _f) in enumerate(zip(W, b, f)):\n",
    "        # variabila i poate fi folosita pentru debug\n",
    "        assert can_multiply(_w, a)\n",
    "        z = np.dot(_w, a) + _b\n",
    "        Z=z\n",
    "        assert z.shape == (_w.shape[0], p)\n",
    "        a =_f(z)\n",
    "        A=a\n",
    "        assert a.shape == z.shape\n",
    "    assert a.shape == (W[-1].shape[0], p)\n",
    "    return a"
   ]
  },
  {
   "cell_type": "code",
   "execution_count": 106,
   "metadata": {
    "ExecuteTime": {
     "end_time": "2020-04-15T05:32:38.852801Z",
     "start_time": "2020-04-15T05:32:38.639373Z"
    }
   },
   "outputs": [],
   "source": [
    "# f[0] = functia de activare pe primul strat ascuns; \n",
    "# f[1] = functia de activare pe al doilea strat ascuns etc.\n",
    "f = [sigmoid, softmax] \n",
    "y_hat = model(X_train, W, b, f)\n",
    "\n",
    "assert y_hat.shape == (m, p)\n",
    "assert np.allclose(y_hat.sum(axis=0), np.ones(p))"
   ]
  },
  {
   "cell_type": "code",
   "execution_count": 107,
   "metadata": {},
   "outputs": [],
   "source": [
    "# print(W[0])\n",
    "# arg3 = np.sum(np.sum(np.square(W[1]), axis = 0))\n",
    "# arg2 = np.sum(np.sum(np.square(W[0]), axis = 0))\n",
    "\n",
    "# print(arg2+arg3)\n",
    "# np.sum([np.linalg.norm(w)**2 for w in W])\n"
   ]
  },
  {
   "cell_type": "markdown",
   "metadata": {},
   "source": [
    "## Error function"
   ]
  },
  {
   "cell_type": "code",
   "execution_count": 154,
   "metadata": {
    "ExecuteTime": {
     "end_time": "2020-04-15T05:32:44.535803Z",
     "start_time": "2020-04-15T05:32:44.527825Z"
    }
   },
   "outputs": [],
   "source": [
    "def J(X, y, W, b, f, num_classes=10, _lambda=0.01):\n",
    "    \"\"\"Computes the error function for MLP\n",
    "    :param X: np.array of shape (n, k)\n",
    "    :param y: np.array of shape (1, k)\n",
    "    :param W: list pf MLPs weights\n",
    "    :param b: list pf MLPs biases\n",
    "    :return: loss values, composed of cross entropy + penalty term\n",
    "    \"\"\"\n",
    "    p = X.shape[1]\n",
    "    EPS = 1e-5\n",
    "    # computes a one hot encoding for the given classes:\n",
    "    # if y[i]=c, 0 <= c <= 9 (here), then column i in one_hot_encoding is filled\n",
    "    # in with 0, excepting line c where one finds value 1\n",
    "    if y.shape[0] == 1 :\n",
    "        one_hot_encoding = np.zeros((p,num_classes))\n",
    "        one_hot_encoding[np.arange(y.shape[1]), y] = 1\n",
    "        one_hot_encoding = one_hot_encoding.T\n",
    "        y= one_hot_encoding\n",
    "        assert np.allclose(one_hot_encoding.sum(axis=0), np.ones(p))    \n",
    "    assert np.allclose(y.sum(axis=0), np.ones(p))   \n",
    "    predicted = model(X, W, b, f)\n",
    "    predicted = np.clip(predicted, EPS, 1-EPS)\n",
    "    loss1 = -(1.0 / p) *np.sum(np.multiply(np.log(predicted),y)) # scrieti cod \n",
    "    loss2 = (_lambda/(2 * p))*np.sum([np.linalg.norm(w)**2 for w in W])\n",
    "    return loss1 + loss2\n"
   ]
  },
  {
   "cell_type": "code",
   "execution_count": 155,
   "metadata": {
    "ExecuteTime": {
     "end_time": "2020-04-02T05:08:15.074986Z",
     "start_time": "2020-04-02T05:08:15.069005Z"
    }
   },
   "outputs": [],
   "source": [
    "def accuracy(X:np.array, y:np.array, W: List[np.array], b: List[np.array], f:List[Callable]) -> float:\n",
    "    \"\"\"Computes the accuracy on a given input dataset X, with ground truth y\n",
    "    :param X: np.array of shape (n, k)\n",
    "    :param y: np.array of shape (1, k); each value is the index of a class\n",
    "    :param W: list of MLP's weights\n",
    "    :param b: list of MLP's biases\n",
    "    :param f: list of activation functions. the last one must be softmax\n",
    "    :return: ratio between correctly classified vectors and total number of cases\n",
    "    \"\"\"\n",
    "    y_hat = model(X, W, b, f)\n",
    "    y_predicted = y_hat == y_hat.max()\n",
    "    return (y_predicted == y).sum() / X.shape[1]"
   ]
  },
  {
   "cell_type": "markdown",
   "metadata": {},
   "source": [
    "# Backpropagation"
   ]
  },
  {
   "cell_type": "code",
   "execution_count": 156,
   "metadata": {},
   "outputs": [],
   "source": [
    "# def back_propagation(X, y, W, b, f, num_classes=10, _lambda=0.01,alpha= 0.01):\n",
    "#     print(m,\" \",num_classes)\n",
    "#     dW=np.zeros((m,num_classes))\n",
    "#     db=np.zeros((m,1))\n",
    "#     dW, db = create_weights(architecture=architecture)\n",
    "#     y_hat = model(X, W, b, f)\n",
    "#     one_hot_encoding = np.zeros((m, X.shape[1]))\n",
    "#     one_hot_encoding[np.arange(y.shape[0]),y[np.arange(y.shape[0])]]=1\n",
    "#     p = X.shape[1]\n",
    "#     a = X\n",
    "#     arg=one_hot_encoding-y_hat\n",
    "# #     deltas = [None] * len(a)\n",
    "# #     deltas[-1] =  (-1 ) * (np.dot(arg,np.transpose(a)))\n",
    "    \n",
    "    \n",
    "#     for i, (_w, _b, _f) in enumerate(zip(W, b, f)):\n",
    "#         z = np.dot(_w, a) + _b\n",
    "#         a =_f(z)\n",
    "\n",
    "#         loss1 = (-1 ) * (np.dot(arg,np.transpose(a)))\n",
    "#     loss1 =np.dot(np.dot(np.transpose(_w),loss1),a)\n",
    "#     dPW = np.dot(loss1,np.transpose(a))\n",
    "#     dPb = loss1\n",
    "# #     loss2 = [w+dPW for w in dW]\n",
    "\n",
    "# #     for i, _b in enumerate(db):\n",
    "# #         print(_b.shape[0])\n",
    "# #         print(dPb.shape[0])\n",
    "# #         _b=_b+dPb\n",
    "    \n",
    "# #     for i, (_w, _b, _f) in enumerate(zip(dW, b, f)):\n",
    "# #     dW=dW+dPW\n",
    "# #         loss1 = (-1 ) * (np.dot(,np.transpose(a)))\n",
    "\n",
    "# #     W= W-alpha*(((1/p)*np.array(dW))+_lambda*W)\n",
    "#     for i, w in enumerate(W):\n",
    "#         arg1=(1/p)*np.array(dW)\n",
    "# #         print(arg1[0].shape[1])\n",
    "#         arg2=_lambda*np.array(w)\n",
    "# #         arg3=arg1[1]+arg2\n",
    "#         w=w-alpha*(arg2)\n",
    "#     b=b-alpha*((1/p)*np.array(db))\n",
    "\n",
    "#     return dW,db   "
   ]
  },
  {
   "cell_type": "code",
   "execution_count": 172,
   "metadata": {},
   "outputs": [],
   "source": [
    "def back_propagation(X,y, W, b,f,num_classes=10,_lambda=0.01,alpha=0.01):\n",
    "    batch_loss = 0\n",
    "    for it in range(int(X.shape[1] / batch_size)):\n",
    "            X_batch = X[:, it * batch_size:(it + 1) * batch_size]\n",
    "\n",
    "            one_hot_encoding = np.zeros((X.shape[1], 10))\n",
    "            one_hot_encoding[np.arange(y.shape[1]), y] = 1\n",
    "            one_hot_encoding = one_hot_encoding.T\n",
    "            y_batch = one_hot_encoding[:, it * batch_size:(it + 1) * batch_size]\n",
    "\n",
    "            error = J(X_batch, y_batch, W, b, f, num_classes, _lambda)\n",
    "            batch_loss += error\n",
    "\n",
    "            y_hat = model(X_batch, W, b, f)\n",
    "            \n",
    "            z1 = np.dot(W[0], X_batch) + b[0]\n",
    "            a1 = f[0](z1)\n",
    "    \n",
    "            delta2 = (1.0 / X_batch.shape[1]) * (y_hat - y_batch)\n",
    "            delta_theta2 = np.dot(a1, delta2.T) + (_lambda / X_batch.shape[1]) * W[1].T\n",
    "            delta_b2 = np.sum(delta2, axis=1, keepdims=True)\n",
    "            delta1 = np.dot(W[1].T, delta2) * derivate_sigmoid(a1)\n",
    "\n",
    "            delta_theta1 = np.dot(X_batch, delta1.T) + (_lambda / X_batch.shape[1]) * W[0].T\n",
    "            delta_b1 = np.sum(delta1, axis=1, keepdims=True)\n",
    "            \n",
    "            \n",
    "\n",
    "            W[1] = W[1] - alpha * delta_theta2.T\n",
    "            b[1] = b[1] - alpha * delta_b2\n",
    "            W[0] = W[0] - alpha * delta_theta1.T\n",
    "            b[0] = b[0] - alpha * delta_b1\n",
    "\n",
    "    return W,b\n",
    "    \n",
    "    \n",
    "    "
   ]
  },
  {
   "cell_type": "markdown",
   "metadata": {},
   "source": [
    "# Train model"
   ]
  },
  {
   "cell_type": "code",
   "execution_count": 173,
   "metadata": {
    "ExecuteTime": {
     "end_time": "2020-04-02T05:08:15.098922Z",
     "start_time": "2020-04-02T05:08:15.078976Z"
    }
   },
   "outputs": [],
   "source": [
    "def train(X_train: np.array, y_train: np.array, X_test: np.array, y_test: np.array, num_classes, W: List[np.array], b:List[np.array], f:List[Callable], _lambda: float, alpha: float, max_delta_error:float=1e-4) -> Tuple[List[np.array], List[np.array], List[float], List[float], List[float]]:\n",
    "    \"\"\"Runs the training on the training dataset (X, y). Stops when  \n",
    "    difference between  two succesive error values is lower than :param max_delta_error:\n",
    "    :param X_train: np.array of shape (n, k), with training cases. Each column is a training case\n",
    "    :param y_train: np.array of shape (1, k), containing labels (0=class 0, ...)\n",
    "    :param X_test: np.array of shape (n, l), with test cases. Each column is a test vector\n",
    "    :param y_test: np.array of shape (1, l), containing labels (0=class 0, ...)\n",
    "    :param num_classes: number of classes\n",
    "    :param W: list of MLP's weights\n",
    "    :param b: list of MLP's biases\n",
    "    :param f: list of activations functions; the last one must be softmax\n",
    "    :param _lambda: coefficient >= for the L2 penalty term\n",
    "    :param alpha: > 0, learning rate\n",
    "    :max_delta_error: >0, a threshold for max absolute difference of succesive loss values\n",
    "    :return: a tuple consisting of: list of weight matrices, list of biases, list of errors computed at each epoch on training set, 2 lists of accuracies on training and on test set at each epoch\n",
    "    \"\"\"\n",
    "    errors = [J(X_train, y_train, W, b, f, num_classes, _lambda)]\n",
    "    acc_train = [accuracy(X_train, y_train, W, b, f)]\n",
    "    acc_test = [accuracy(X_test, y_test, W, b, f)]\n",
    "    epoch = 0\n",
    "    while True:\n",
    "        epoch += 1\n",
    "        # actualizare ponderi si biases W, b pentru fiecare pereche de date din setul de instruire *_test\n",
    "        error = J(X_test, y_test, W, b, f, num_classes, _lambda)\n",
    "        W, b=back_propagation(X_test, y_test, W, b,f,num_classes, _lambda,alpha)\n",
    "        # scrieti cod\n",
    "        errors.append(error)\n",
    "        train_acc =accuracy(X_train, y_train, W, b, f)\n",
    "        acc_train.append(train_acc)\n",
    "        test_acc = accuracy(X_test, y_test, W, b, f)\n",
    "        acc_test.append(test_acc)\n",
    "\n",
    "        if epoch % 10 == 0:\n",
    "            print(f'Epoch: {epoch}, error: {error}, train accuracy: {train_acc}, test accuracy: {test_acc}')\n",
    "        if np.abs(errors[-1] - errors[-2]) < max_delta_error:\n",
    "            break\n",
    "        \n",
    "        # plot de valore de eroare pe train si pe test\n",
    "    return W, b, errors, acc_train, acc_test"
   ]
  },
  {
   "cell_type": "code",
   "execution_count": 166,
   "metadata": {
    "ExecuteTime": {
     "end_time": "2020-04-02T13:44:41.944041Z",
     "start_time": "2020-04-02T05:52:03.345797Z"
    },
    "scrolled": true
   },
   "outputs": [
    {
     "name": "stdout",
     "output_type": "stream",
     "text": [
      "Epoch: 10, error: 1.3452210020214204, train accuracy: 0.98715, test accuracy: 0.9799\n",
      "Epoch: 20, error: 0.858589669148649, train accuracy: 0.98715, test accuracy: 0.9799\n",
      "Epoch: 30, error: 0.6618354353205518, train accuracy: 0.9871666666666666, test accuracy: 0.98\n",
      "Epoch: 40, error: 0.5606015359082701, train accuracy: 0.9871666666666666, test accuracy: 0.98\n",
      "Epoch: 50, error: 0.4989540909613809, train accuracy: 0.9871666666666666, test accuracy: 0.98\n",
      "Epoch: 60, error: 0.45711890838438146, train accuracy: 0.9871666666666666, test accuracy: 0.98\n",
      "Epoch: 70, error: 0.4266078563239026, train accuracy: 0.9871666666666666, test accuracy: 0.98\n",
      "Epoch: 80, error: 0.40321402152290214, train accuracy: 0.9871666666666666, test accuracy: 0.98\n",
      "Epoch: 90, error: 0.3846119344533532, train accuracy: 0.9871666666666666, test accuracy: 0.98\n",
      "Epoch: 100, error: 0.36940482861235535, train accuracy: 0.9871666666666666, test accuracy: 0.98\n",
      "Epoch: 110, error: 0.3566987932536675, train accuracy: 0.9871666666666666, test accuracy: 0.98\n",
      "Epoch: 120, error: 0.34589289918506194, train accuracy: 0.9871666666666666, test accuracy: 0.98\n",
      "Epoch: 130, error: 0.3365671288017336, train accuracy: 0.9871666666666666, test accuracy: 0.98\n",
      "Epoch: 140, error: 0.3284184935524651, train accuracy: 0.9871666666666666, test accuracy: 0.98\n",
      "Epoch: 150, error: 0.32122263081427643, train accuracy: 0.9871666666666666, test accuracy: 0.98\n",
      "Epoch: 160, error: 0.31480968738314746, train accuracy: 0.9871666666666666, test accuracy: 0.98\n",
      "Epoch: 170, error: 0.30904861391530974, train accuracy: 0.9871666666666666, test accuracy: 0.98\n",
      "Epoch: 180, error: 0.30383661769721726, train accuracy: 0.9871666666666666, test accuracy: 0.98\n",
      "Epoch: 190, error: 0.29909189062211733, train accuracy: 0.9871666666666666, test accuracy: 0.98\n",
      "Epoch: 200, error: 0.2947484796703314, train accuracy: 0.9871666666666666, test accuracy: 0.98\n",
      "Epoch: 210, error: 0.29075259572923895, train accuracy: 0.9871666666666666, test accuracy: 0.98\n",
      "Epoch: 220, error: 0.2870599102075604, train accuracy: 0.9871666666666666, test accuracy: 0.98\n",
      "Epoch: 230, error: 0.28363354376130023, train accuracy: 0.9871666666666666, test accuracy: 0.98\n",
      "Epoch: 240, error: 0.28044254866602, train accuracy: 0.9871666666666666, test accuracy: 0.98\n",
      "Epoch: 250, error: 0.2774607489293927, train accuracy: 0.9871666666666666, test accuracy: 0.98\n",
      "Epoch: 260, error: 0.2746658433990564, train accuracy: 0.9871666666666666, test accuracy: 0.98\n",
      "Epoch: 270, error: 0.2720387047484617, train accuracy: 0.9871666666666666, test accuracy: 0.98\n",
      "Epoch: 280, error: 0.26956282610255267, train accuracy: 0.9871666666666666, test accuracy: 0.98\n",
      "Epoch: 290, error: 0.26722388017555343, train accuracy: 0.9871666666666666, test accuracy: 0.98\n",
      "Epoch: 300, error: 0.2650093650309517, train accuracy: 0.9871666666666666, test accuracy: 0.98\n",
      "Epoch: 310, error: 0.2629083171694304, train accuracy: 0.9871666666666666, test accuracy: 0.98\n",
      "Epoch: 320, error: 0.26091107741694797, train accuracy: 0.9871666666666666, test accuracy: 0.98\n",
      "Epoch: 330, error: 0.2590090985682405, train accuracy: 0.9871666666666666, test accuracy: 0.98\n",
      "Epoch: 340, error: 0.25719478631264314, train accuracy: 0.9871666666666666, test accuracy: 0.98\n",
      "Epoch: 350, error: 0.25546136688612675, train accuracy: 0.9871666666666666, test accuracy: 0.98\n",
      "Epoch: 360, error: 0.25380277633539355, train accuracy: 0.9871666666666666, test accuracy: 0.98\n",
      "Epoch: 370, error: 0.252213567401692, train accuracy: 0.9871666666666666, test accuracy: 0.98\n",
      "Epoch: 380, error: 0.25068883074736154, train accuracy: 0.9871666666666666, test accuracy: 0.98\n",
      "Epoch: 390, error: 0.2492241280255605, train accuracy: 0.9871666666666666, test accuracy: 0.98\n",
      "Epoch: 400, error: 0.24781543497184275, train accuracy: 0.9871666666666666, test accuracy: 0.98\n",
      "Epoch: 410, error: 0.24645909249662754, train accuracy: 0.9871666666666666, test accuracy: 0.98\n",
      "Epoch: 420, error: 0.2451517646787435, train accuracy: 0.9871666666666666, test accuracy: 0.98\n",
      "Epoch: 430, error: 0.24389040251102673, train accuracy: 0.9871666666666666, test accuracy: 0.98\n",
      "Epoch: 440, error: 0.2426722124995037, train accuracy: 0.9871666666666666, test accuracy: 0.98\n",
      "Epoch: 450, error: 0.24149462937447033, train accuracy: 0.9871666666666666, test accuracy: 0.98\n",
      "Epoch: 460, error: 0.24035529229839667, train accuracy: 0.9871666666666666, test accuracy: 0.98\n",
      "Epoch: 470, error: 0.2392520240584025, train accuracy: 0.9871666666666666, test accuracy: 0.98\n",
      "Epoch: 480, error: 0.23818281281494647, train accuracy: 0.9871666666666666, test accuracy: 0.98\n",
      "Epoch: 490, error: 0.2371457960471313, train accuracy: 0.9871666666666666, test accuracy: 0.98\n"
     ]
    }
   ],
   "source": [
    "W, b = create_weights(architecture)\n",
    "batch_size = 1000\n",
    "W, b, errors, acc_train, acc_test = train(X_train, y_train, X_test, y_test, 10, W, b, f, 0.01, 0.1)"
   ]
  },
  {
   "cell_type": "code",
   "execution_count": 167,
   "metadata": {
    "ExecuteTime": {
     "end_time": "2020-04-02T14:03:19.902932Z",
     "start_time": "2020-04-02T14:03:19.673520Z"
    }
   },
   "outputs": [
    {
     "data": {
      "image/png": "[encoded data removed]",
      "text/plain": [
       "<Figure size 720x576 with 1 Axes>"
      ]
     },
     "metadata": {
      "needs_background": "light"
     },
     "output_type": "display_data"
    }
   ],
   "source": [
    "plt.figure(figsize=(10, 8))\n",
    "plt.plot(errors, label='Loss on train DS')\n",
    "plt.xlabel('Epochs')\n",
    "plt.ylabel('Loss')\n",
    "plt.show()"
   ]
  },
  {
   "cell_type": "code",
   "execution_count": 169,
   "metadata": {
    "ExecuteTime": {
     "end_time": "2020-04-02T14:08:45.594232Z",
     "start_time": "2020-04-02T14:08:45.419907Z"
    }
   },
   "outputs": [
    {
     "data": {
      "text/plain": [
       "[<matplotlib.lines.Line2D at 0x297dedd2748>]"
      ]
     },
     "execution_count": 169,
     "metadata": {},
     "output_type": "execute_result"
    },
    {
     "data": {
      "image/png": "[encoded data removed]",
      "text/plain": [
       "<Figure size 432x288 with 1 Axes>"
      ]
     },
     "metadata": {
      "needs_background": "light"
     },
     "output_type": "display_data"
    }
   ],
   "source": [
    "# acc_train, acc_test\n",
    "plt.plot(acc_train, label='Acc train')\n",
    "plt.plot(acc_test, label='Acc test')"
   ]
  },
  {
   "cell_type": "markdown",
   "metadata": {},
   "source": [
    "# Test model"
   ]
  },
  {
   "cell_type": "code",
   "execution_count": 171,
   "metadata": {
    "ExecuteTime": {
     "end_time": "2020-04-02T05:12:22.914348Z",
     "start_time": "2020-04-02T05:12:22.885426Z"
    }
   },
   "outputs": [
    {
     "name": "stdout",
     "output_type": "stream",
     "text": [
      "Accuracy on test set: 0.98\n"
     ]
    }
   ],
   "source": [
    "print(f'Accuracy on test set: {accuracy(X_test, y_test, W,b,f)}')"
   ]
  },
  {
   "cell_type": "code",
   "execution_count": null,
   "metadata": {},
   "outputs": [],
   "source": []
  }
 ],
 "metadata": {
  "kernelspec": {
   "display_name": "Python 3",
   "language": "python",
   "name": "python3"
  },
  "language_info": {
   "codemirror_mode": {
    "name": "ipython",
    "version": 3
   },
   "file_extension": ".py",
   "mimetype": "text/x-python",
   "name": "python",
   "nbconvert_exporter": "python",
   "pygments_lexer": "ipython3",
   "version": "3.7.4"
  },
  "latex_envs": {
   "LaTeX_envs_menu_present": true,
   "autoclose": false,
   "autocomplete": true,
   "bibliofile": "biblio.bib",
   "cite_by": "apalike",
   "current_citInitial": 1,
   "eqLabelWithNumbers": true,
   "eqNumInitial": 1,
   "hotkeys": {
    "equation": "Ctrl-E",
    "itemize": "Ctrl-I"
   },
   "labels_anchors": false,
   "latex_user_defs": false,
   "report_style_numbering": false,
   "user_envs_cfg": false
  },
  "notify_time": "5",
  "toc": {
   "base_numbering": 1,
   "nav_menu": {},
   "number_sections": true,
   "sideBar": true,
   "skip_h1_title": false,
   "title_cell": "Table of Contents",
   "title_sidebar": "Contents",
   "toc_cell": false,
   "toc_position": {},
   "toc_section_display": true,
   "toc_window_display": false
  },
  "varInspector": {
   "cols": {
    "lenName": 16,
    "lenType": 16,
    "lenVar": 40
   },
   "kernels_config": {
    "python": {
     "delete_cmd_postfix": "",
     "delete_cmd_prefix": "del ",
     "library": "var_list.py",
     "varRefreshCmd": "print(var_dic_list())"
    },
    "r": {
     "delete_cmd_postfix": ") ",
     "delete_cmd_prefix": "rm(",
     "library": "var_list.r",
     "varRefreshCmd": "cat(var_dic_list()) "
    }
   },
   "types_to_exclude": [
    "module",
    "function",
    "builtin_function_or_method",
    "instance",
    "_Feature"
   ],
   "window_display": false
  }
 },
 "nbformat": 4,
 "nbformat_minor": 2
}
