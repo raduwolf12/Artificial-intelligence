{
 "cells": [
  {
   "cell_type": "markdown",
   "metadata": {},
   "source": [
    "# Load data"
   ]
  },
  {
   "cell_type": "code",
   "execution_count": 7,
   "metadata": {
    "ExecuteTime": {
     "end_time": "2020-04-15T05:32:33.688762Z",
     "start_time": "2020-04-15T05:32:33.683775Z"
    }
   },
   "outputs": [],
   "source": [
    "import numpy as np\n",
    "import pandas as pd\n",
    "import matplotlib.pyplot as plt\n",
    "from numpy import linalg as LA\n",
    "from typing import Tuple, List, Callable"
   ]
  },
  {
   "cell_type": "code",
   "execution_count": 121,
   "metadata": {
    "ExecuteTime": {
     "end_time": "2020-04-15T05:32:33.703722Z",
     "start_time": "2020-04-15T05:32:33.694747Z"
    }
   },
   "outputs": [],
   "source": [
    "def load_file(path: str) -> Tuple[np.ndarray, np.ndarray]:\n",
    "    \"\"\"Loads the data from the file stored at :param path: and returns the \n",
    "    input values and the class labels.\n",
    "    :param path: path of a CVS file with data\n",
    "    :return: a tuple containing the input matrix of shape (n, p) and a line \n",
    "    vector with the m class labels in {0, ..., 9}\n",
    "    \"\"\"\n",
    "    # citire date sin fisierul dat de path\n",
    "    df = pd.read_csv(path,header=None)\n",
    "    X = df.values[:,1:].T\n",
    "    y = df.values[:,0].reshape(len(df),1).T\n",
    "    assert X.ndim ==  2, 'Matrix required for input values'\n",
    "    assert y.ndim == 2, 'Column matrix required for labels'\n",
    "    assert y.shape == (1, X.shape[1]), 'Same number of lines is required'\n",
    "    return X, y"
   ]
  },
  {
   "cell_type": "code",
   "execution_count": 122,
   "metadata": {
    "ExecuteTime": {
     "end_time": "2020-04-15T05:32:33.710703Z",
     "start_time": "2020-04-15T05:32:33.706715Z"
    }
   },
   "outputs": [],
   "source": [
    "path_train = './lab4/data/mnist_train.csv'\n",
    "path_test = './lab4/data/mnist_test.csv'"
   ]
  },
  {
   "cell_type": "code",
   "execution_count": 123,
   "metadata": {
    "ExecuteTime": {
     "end_time": "2020-04-15T05:32:38.182596Z",
     "start_time": "2020-04-15T05:32:33.713696Z"
    }
   },
   "outputs": [],
   "source": [
    "X_train, y_train = load_file(path_train)\n",
    "\n",
    "assert X_train.shape == (784, 60000)\n",
    "assert y_train.shape == (1, 60000)\n",
    "\n",
    "X_test, y_test = load_file(path_test)\n",
    "\n",
    "assert X_test.shape == (784, 10000)\n",
    "assert y_test.shape == (1, 10000)"
   ]
  },
  {
   "cell_type": "code",
   "execution_count": 124,
   "metadata": {
    "ExecuteTime": {
     "end_time": "2020-04-15T05:32:38.194562Z",
     "start_time": "2020-04-15T05:32:38.184589Z"
    }
   },
   "outputs": [],
   "source": [
    "def scale_values(X: np.ndarray) -> np.ndarray:\n",
    "    \"\"\"Scales the values to range [0, 1].\n",
    "    :param X: an (m, n) matrix with values between 0 and 255.\n",
    "    :return: an (m, n) matrix containing values of :param X: scaled in [0, 1]\n",
    "    \"\"\"\n",
    "    result = X/255 # scrieti cod\n",
    "    assert 0 <= np.min(result) <= np.max(result) <= 1, 'Scaled values should be in [0, 1]'\n",
    "    assert X.shape == result.shape, 'Scaling preserves shape'\n",
    "    return result"
   ]
  },
  {
   "cell_type": "code",
   "execution_count": 125,
   "metadata": {
    "ExecuteTime": {
     "end_time": "2020-04-15T05:32:38.531663Z",
     "start_time": "2020-04-15T05:32:38.203540Z"
    }
   },
   "outputs": [],
   "source": [
    "X_train = scale_values(X_train)\n",
    "assert X_train.shape == (784, 60000)\n",
    "X_test = scale_values(X_test)\n",
    "assert X_test.shape == (784, 10000)"
   ]
  },
  {
   "cell_type": "markdown",
   "metadata": {
    "ExecuteTime": {
     "end_time": "2019-11-24T15:41:07.997557Z",
     "start_time": "2019-11-24T15:41:07.991110Z"
    }
   },
   "source": [
    "# Create model"
   ]
  },
  {
   "cell_type": "markdown",
   "metadata": {},
   "source": [
    "## Define model's architecture"
   ]
  },
  {
   "cell_type": "code",
   "execution_count": 126,
   "metadata": {
    "ExecuteTime": {
     "end_time": "2020-04-15T05:32:38.541636Z",
     "start_time": "2020-04-15T05:32:38.535651Z"
    }
   },
   "outputs": [],
   "source": [
    "m = 10 # number of classes\n",
    "n, p = X_train.shape\n",
    "architecture = [n, 100, m] # list: [input_size, hidden1, hidden2, ..., output_size]\n",
    "\n",
    "assert len(architecture) >= 3, 'At least one hidden layer'\n",
    "assert architecture[0] == n\n",
    "assert architecture[-1] == m"
   ]
  },
  {
   "cell_type": "markdown",
   "metadata": {},
   "source": [
    "Ponderile sunt initializate conform strategiei lui Xavier Glorot. Pentru o matrice de ponderi $W^{[l]}$ de forma $n_{l} \\times n_{l-1}$, ponderile pot fi initializate cu o distributie uniforma in intervalul \n",
    "$$\n",
    "\\left[-\\frac{\\sqrt{6}}{\\sqrt{n_{l} + n_{l-1}}}, +\\frac{\\sqrt{6}}{\\sqrt{n_{l} + n_{l-1}}}\\right]\n",
    "$$\n",
    "\n",
    "Ponderile de bias se obisnuiesc a se initializa cu 0; intializarea aleatoare a ponderilor W este considerata suficienta pentru a obtine spargerea simetriei.\n",
    "\n",
    "Ref: [Understanding the difficulty of training deep feedforward neural networks](http://proceedings.mlr.press/v9/glorot10a/glorot10a.pdf)"
   ]
  },
  {
   "cell_type": "code",
   "execution_count": 127,
   "metadata": {
    "ExecuteTime": {
     "end_time": "2020-04-15T05:32:38.567564Z",
     "start_time": "2020-04-15T05:32:38.545624Z"
    }
   },
   "outputs": [],
   "source": [
    "def create_weights(architecture: List[int], init_type:str='glorot_uniform') -> Tuple[List[np.array], List[np.array]]:\n",
    "    \"\"\"Creates the list of weights and biases for the given architecture.\n",
    "    :param architecture: list of number of nodes in each layer \n",
    "    (including input and ouotput layers)\n",
    "    :param init_type: name of initialization parameter. Defaults to \n",
    "    'glorot_uniform', add other supported initializtion strategies.\n",
    "    :return: a tuple containing: list of weight matrices W, a list of bias \n",
    "    column vectors. The two lists have the same numer of elements, number of \n",
    "    layers - 1.\n",
    "    \"\"\"\n",
    "    L = len(architecture)\n",
    "    W, b = [], []\n",
    "    # initializare de ponderi\n",
    "    for n_lplus1, nl in zip(architecture[1:], architecture[:-1]):\n",
    "        W.append(np.random.rand(n_lplus1,nl)* np.random.uniform(-1,1) *np.sqrt(6.0 / (nl + n_lplus1)))# scrieti cod\n",
    "    for n_l in architecture[1:]:\n",
    "        b.append(np.zeros((n_l,1))) # scrieti cod\n",
    "    assert len(W) == len(b) == L-1\n",
    "    for i, w in enumerate(W):\n",
    "        assert w.shape == (architecture[i+1], architecture[i]), f'Shape of W[{i}] should be ({L[i+1], L[i]})'\n",
    "    for i, _b in enumerate(b):\n",
    "        assert _b.shape == (architecture[i+1], 1), f'Shape of b[{i}] should be ({L[i+1]}, 1)'\n",
    "    if init_type == 'glorot_uniform':\n",
    "        for i, w in enumerate(W):\n",
    "            w_shape_sum = np.sum(w.shape)\n",
    "            assert -np.sqrt(6)/np.sqrt(w_shape_sum) <= np.min(w) <= np.sqrt(6)/np.sqrt(w_shape_sum), f\"Values of W[{i}] should be according to Glorot's initialization\"\n",
    "        for i, _b in enumerate(b):\n",
    "            assert 0 == np.min(_b) == np.min(_b) == 0, f\"Values of b[{i}] should be initialized to 0\"\n",
    "    return W, b"
   ]
  },
  {
   "cell_type": "code",
   "execution_count": 128,
   "metadata": {
    "ExecuteTime": {
     "end_time": "2020-04-15T05:32:38.584519Z",
     "start_time": "2020-04-15T05:32:38.569559Z"
    }
   },
   "outputs": [],
   "source": [
    "def sigmoid(z: np.array) -> np.array:\n",
    "    \"\"\"Computes sigmoid activation function\"\"\"\n",
    "    # scrieti cod\n",
    "    return 1 / (1 + np.exp(-z))\n",
    "\n",
    "def derivate_sigmoid(z: np.array) -> np.array:\n",
    "    \"\"\"Computes the derivatives for the sigmoid activation function\"\"\"\n",
    "    # scrieti cod\n",
    "    return sigmoid(z) * (1 - sigmoid(z))\n",
    "\n",
    "def tanh(z: np.array) -> np.array:\n",
    "    \"\"\"Computes the tanh activation function\"\"\"\n",
    "    # scrieti cod\n",
    "    return np.tanh(z)\n",
    "\n",
    "def derivate_tanh(z: np.array) -> np.array:\n",
    "    \"\"\"Computes the derivatives for the tanh activation function\"\"\"\n",
    "    # scrieti cod\n",
    "    return 1.0 - np.tanh(z)**2\n",
    "\n",
    "def ReLU(z: np.array) -> np.array:\n",
    "    \"\"\"Computes the rectified linear unit activation function\"\"\"\n",
    "    return np.maximum(0,z)\n",
    "\n",
    "def derivative_ReLU(z: np.array) -> np.array:\n",
    "    \"\"\"Computes the derivatives of the rectified linear unit activation function\"\"\"\n",
    "    # scrieti cod\n",
    "    z[z <= 0.0] = 0.0\n",
    "    z[z > 0.0] = 1.0\n",
    "    return z"
   ]
  },
  {
   "cell_type": "code",
   "execution_count": 129,
   "metadata": {
    "ExecuteTime": {
     "end_time": "2020-04-15T05:32:38.596496Z",
     "start_time": "2020-04-15T05:32:38.589506Z"
    }
   },
   "outputs": [],
   "source": [
    "def softmax(z, axis=0):\n",
    "    \"\"\"Applies softmax to a matrix z.\n",
    "    :param z: np.array of shape (m, k)\n",
    "    \"\"\"\n",
    "    # scrieti cod, posibil mai multe linii\n",
    "    result = np.exp(z) / np.sum(np.exp(z), axis=0)\n",
    "    assert np.allclose(np.sum(result, axis=axis), 1.0)\n",
    "    return result"
   ]
  },
  {
   "cell_type": "code",
   "execution_count": 130,
   "metadata": {
    "ExecuteTime": {
     "end_time": "2020-04-15T05:32:38.609453Z",
     "start_time": "2020-04-15T05:32:38.599481Z"
    }
   },
   "outputs": [],
   "source": [
    "W, b = create_weights(architecture=architecture)"
   ]
  },
  {
   "cell_type": "markdown",
   "metadata": {},
   "source": [
    "## Feedforward propagation"
   ]
  },
  {
   "cell_type": "code",
   "execution_count": 131,
   "metadata": {
    "ExecuteTime": {
     "end_time": "2020-04-15T15:54:14.739424Z",
     "start_time": "2020-04-15T15:54:14.320545Z"
    }
   },
   "outputs": [],
   "source": [
    "def can_multiply(a:np.array, b:np.array) -> bool:\n",
    "    return a.ndim == b.ndim == 2 and a.shape[1] == b.shape[0]\n",
    "\n",
    "def can_multiply_hadamard(a:np.array, b:np.array) -> bool:\n",
    "    return a.shape == b.shape"
   ]
  },
  {
   "cell_type": "code",
   "execution_count": 132,
   "metadata": {
    "ExecuteTime": {
     "end_time": "2020-04-15T05:32:38.636381Z",
     "start_time": "2020-04-15T05:32:38.624413Z"
    }
   },
   "outputs": [],
   "source": [
    "def model(X:np.array, W:List[np.array], b:List[np.array], f:List[Callable]) -> np.array:\n",
    "    \"\"\"Computes the output produced by the MLP for the given input X\n",
    "    :param X: np.array of shape (n, p). Each column of X is a datum from a set.\n",
    "    :param W: a list of weight matrices\n",
    "    :param b: a list of bias columns\n",
    "    :param f: a list of activation functions\n",
    "    :return: a matrix of output values produced by MLP, of shape: number of \n",
    "    predicted outputs (e.g. classes), number of input vectors p\n",
    "    \"\"\"\n",
    "    assert len(W) == len(b) == len(f)\n",
    "    p = X.shape[1]\n",
    "    a = X\n",
    "    for i, (_w, _b, _f) in enumerate(zip(W, b, f)):\n",
    "        # variabila i poate fi folosita pentru debug\n",
    "        assert can_multiply(_w, a)\n",
    "        z = np.dot(_w, a) + _b # scrieti cod\n",
    "        assert z.shape == (_w.shape[0], p)\n",
    "        a = _f(z) # scrieti cod\n",
    "        assert a.shape == z.shape\n",
    "    assert a.shape == (W[-1].shape[0], p)\n",
    "    return a"
   ]
  },
  {
   "cell_type": "code",
   "execution_count": 133,
   "metadata": {
    "ExecuteTime": {
     "end_time": "2020-04-15T05:32:38.852801Z",
     "start_time": "2020-04-15T05:32:38.639373Z"
    }
   },
   "outputs": [],
   "source": [
    "# f[0] = functia de activare pe primul strat ascuns; \n",
    "# f[1] = functia de activare pe al doilea strat ascuns etc.\n",
    "f = [sigmoid, softmax] \n",
    "y_hat = model(X_train, W, b, f)\n",
    "\n",
    "assert y_hat.shape == (m, p)\n",
    "assert np.allclose(y_hat.sum(axis=0), np.ones(p))"
   ]
  },
  {
   "cell_type": "markdown",
   "metadata": {},
   "source": [
    "## Error function"
   ]
  },
  {
   "cell_type": "code",
   "execution_count": 134,
   "metadata": {
    "ExecuteTime": {
     "end_time": "2020-04-15T05:32:44.535803Z",
     "start_time": "2020-04-15T05:32:44.527825Z"
    }
   },
   "outputs": [],
   "source": [
    "def J(X, y, W, b, f, num_classes=10, _lambda=0.01):\n",
    "    \"\"\"Computes the error function for MLP\n",
    "    :param X: np.array of shape (n, k)\n",
    "    :param y: np.array of shape (1, k)\n",
    "    :param W: list pf MLPs weights\n",
    "    :param b: list pf MLPs biases\n",
    "    :return: loss values, composed of cross entropy + penalty term\n",
    "    \"\"\"\n",
    "    p = X.shape[1]\n",
    "    EPS = 1e-5\n",
    "    # computes a one hot encoding for the given classes:\n",
    "    # if y[i]=c, 0 <= c <= 9 (here), then column i in one_hot_encoding is filled\n",
    "    # in with 0, excepting line c where one finds value 1\n",
    "    if y.shape[0] == 1 :\n",
    "        one_hot_encoding = np.zeros((p,num_classes))\n",
    "        one_hot_encoding[np.arange(y.shape[1]), y] = 1\n",
    "        one_hot_encoding = one_hot_encoding.T\n",
    "        y= one_hot_encoding\n",
    "        assert np.allclose(one_hot_encoding.sum(axis=0), np.ones(p))    \n",
    "    assert np.allclose(y.sum(axis=0), np.ones(p))   \n",
    "    predicted = model(X, W, b, f)\n",
    "    predicted = np.clip(predicted, EPS, 1-EPS)\n",
    "    loss1 = -(1.0 / p) *np.sum(np.multiply(np.log(predicted),y)) # scrieti cod \n",
    "    loss2 = + (_lambda / (2 * p)) * (LA.norm(W[0]) + LA.norm(W[1]))\n",
    "    return loss1 + loss2\n"
   ]
  },
  {
   "cell_type": "code",
   "execution_count": 135,
   "metadata": {
    "ExecuteTime": {
     "end_time": "2020-04-02T05:08:15.074986Z",
     "start_time": "2020-04-02T05:08:15.069005Z"
    }
   },
   "outputs": [],
   "source": [
    "def accuracy(X:np.array, y:np.array, W: List[np.array], b: List[np.array], f:List[Callable]) -> float:\n",
    "    \"\"\"Computes the accuracy on a given input dataset X, with ground truth y\n",
    "    :param X: np.array of shape (n, k)\n",
    "    :param y: np.array of shape (1, k); each value is the index of a class\n",
    "    :param W: list of MLP's weights\n",
    "    :param b: list of MLP's biases\n",
    "    :param f: list of activation functions. the last one must be softmax\n",
    "    :return: ratio between correctly classified vectors and total number of cases\n",
    "    \"\"\"\n",
    "    y_hat = model(X,W,b,f)\n",
    "    y_predicted = np.expand_dims(np.argmax(y_hat, axis=0), axis=0) # scrieti cod\n",
    "    return (y_predicted == y).sum() / X.shape[1]\n"
   ]
  },
  {
   "cell_type": "markdown",
   "metadata": {},
   "source": [
    "### Back_propagation\n"
   ]
  },
  {
   "cell_type": "code",
   "execution_count": 136,
   "metadata": {},
   "outputs": [],
   "source": [
    "def back_propagation(X, y_hat, y, W, b, _lambda):  \n",
    "\n",
    "    z1 = np.dot(W[0], X) + b[0]\n",
    "    a1 = f[0](z1)\n",
    "\n",
    "    delta2 = (1.0 / X.shape[1]) * (y_hat - y)\n",
    "    delta_theta2 = np.dot(a1, delta2.T) + (_lambda / X.shape[1]) * W[1].T\n",
    "    delta_b2 = np.sum(delta2, axis=1, keepdims=True)\n",
    "    delta1 = np.dot(W[1].T, delta2) * derivate_sigmoid(a1)\n",
    "\n",
    "    delta_theta1 = np.dot(X, delta1.T) + (_lambda / X.shape[1]) * W[0].T\n",
    "    delta_b1 = np.sum(delta1, axis=1, keepdims=True)\n",
    "    return delta_theta2.T, delta_b2, delta_theta1.T, delta_b1\n"
   ]
  },
  {
   "cell_type": "markdown",
   "metadata": {},
   "source": [
    "# Train model"
   ]
  },
  {
   "cell_type": "code",
   "execution_count": 139,
   "metadata": {
    "ExecuteTime": {
     "end_time": "2020-04-02T05:08:15.098922Z",
     "start_time": "2020-04-02T05:08:15.078976Z"
    }
   },
   "outputs": [],
   "source": [
    "def train(X_train: np.array, y_train: np.array, X_test: np.array, y_test: np.array, num_classes, W: List[np.array],\n",
    "          b: List[np.array], f: List[Callable], _lambda: float, alpha: float, max_delta_error: float = 1e-4) -> Tuple[\n",
    "    List[np.array], List[np.array], List[float], List[float], List[float]]:\n",
    "    \"\"\"Runs the training on the training dataset (X, y). Stops when\n",
    "    difference between  two succesive error values is lower than :param max_delta_error:\n",
    "    :param X_train: np.array of shape (n, k), with training cases. Each column is a training case\n",
    "    :param y_train: np.array of shape (1, k), containing labels (0=class 0, ...)\n",
    "    :param X_test: np.array of shape (n, l), with test cases. Each column is a test vector\n",
    "    :param y_test: np.array of shape (1, l), containing labels (0=class 0, ...)\n",
    "    :param num_classes: number of classes\n",
    "    :param W: list of MLP's weights\n",
    "    :param b: list of MLP's biases\n",
    "    :param f: list of activations functions; the last one must be softmax\n",
    "    :param _lambda: coefficient >= for the L2 penalty term\n",
    "    :param alpha: > 0, learning rate\n",
    "    :max_delta_error: >0, a threshold for max absolute difference of succesive loss values\n",
    "    :return: a tuple consisting of: list of weight matrices, list of biases, list of errors computed at each epoch on training set, 2 lists of accuracies on training and on test set at each epoch\n",
    "    \"\"\"\n",
    "    errors = [J(X_train, y_train, W, b, f, num_classes, _lambda)]\n",
    "    acc_train = [accuracy(X_train, y_train, W, b, f)]\n",
    "    acc_test = [accuracy(X_test, y_test, W, b, f)]\n",
    "    epoch = 0\n",
    "\n",
    "    iterations = X_train.shape[1] / batch_size\n",
    "    while True:\n",
    "        batch_loss = 0\n",
    "        epoch += 1\n",
    "        for it in range(int(iterations)):\n",
    "            X_batch = X_train[:, it * batch_size:(it + 1) * batch_size]\n",
    "\n",
    "            one_hot_encoding = np.zeros((X_train.shape[1], 10))\n",
    "            one_hot_encoding[np.arange(y_train.shape[1]), y_train] = 1\n",
    "            one_hot_encoding = one_hot_encoding.T\n",
    "            y_batch = one_hot_encoding[:, it * batch_size:(it + 1) * batch_size]\n",
    "\n",
    "            # actualizare ponderi si biases W, b pentru fiecare pereche de date din setul de instruire *_test\n",
    "            error = J(X_batch, y_batch, W, b, f, num_classes, _lambda)\n",
    "            batch_loss += error\n",
    "\n",
    "            y_hat = model(X_batch, W, b, f)\n",
    "            gradients = back_propagation(X_batch, y_hat, y_batch, W, b, _lambda)\n",
    "\n",
    "            W[1] = W[1] - alpha * gradients[0]\n",
    "            b[1] = b[1] - alpha * gradients[1]\n",
    "            W[0] = W[0] - alpha * gradients[2]\n",
    "            b[0] = b[0] - alpha * gradients[3]\n",
    "\n",
    "        error = batch_loss / iterations\n",
    "        errors.append(error)\n",
    "        train_acc = accuracy(X_train, y_train, W, b, f)  # scrieti cod\n",
    "        acc_train.append(train_acc)\n",
    "        test_acc = accuracy(X_test, y_test, W, b, f)  # scrieti cod\n",
    "        acc_test.append(test_acc)\n",
    "\n",
    "        print(f'Epoch: {epoch}, error: {error}, train accuracy: {train_acc}, test accuracy: {test_acc}')\n",
    "\n",
    "        if epoch % 10 == 0:\n",
    "            print(f'Epoch: {epoch}, error: {error}, train accuracy: {train_acc}, test accuracy: {test_acc}')\n",
    "        if np.abs(errors[-1] - errors[-2]) < max_delta_error:\n",
    "            break\n",
    "        test_loss = J(X_test, y_test, W, b, f, num_classes, _lambda)\n",
    "\n",
    "    return W, b, errors, acc_train, acc_test, test_loss  # scrieti cod"
   ]
  },
  {
   "cell_type": "code",
   "execution_count": 140,
   "metadata": {
    "ExecuteTime": {
     "end_time": "2020-04-02T13:44:41.944041Z",
     "start_time": "2020-04-02T05:52:03.345797Z"
    },
    "scrolled": true
   },
   "outputs": [
    {
     "name": "stdout",
     "output_type": "stream",
     "text": [
      "Epoch: 1, error: 2.2863598449825067, train accuracy: 0.6229, test accuracy: 0.6363\n",
      "Epoch: 2, error: 1.0332534143873402, train accuracy: 0.81775, test accuracy: 0.8188\n",
      "Epoch: 3, error: 0.6110243878561843, train accuracy: 0.8611, test accuracy: 0.8677\n",
      "Epoch: 4, error: 0.48688285129552666, train accuracy: 0.87975, test accuracy: 0.8842\n",
      "Epoch: 5, error: 0.4272897144587671, train accuracy: 0.8888166666666667, test accuracy: 0.8915\n",
      "Epoch: 6, error: 0.3923921819711388, train accuracy: 0.8952333333333333, test accuracy: 0.8984\n",
      "Epoch: 7, error: 0.3694537130266253, train accuracy: 0.8995166666666666, test accuracy: 0.9029\n",
      "Epoch: 8, error: 0.3531532851125286, train accuracy: 0.9026666666666666, test accuracy: 0.9058\n",
      "Epoch: 9, error: 0.34093470254539215, train accuracy: 0.9051666666666667, test accuracy: 0.9091\n",
      "Epoch: 10, error: 0.33141691076553453, train accuracy: 0.9070833333333334, test accuracy: 0.9108\n",
      "Epoch: 10, error: 0.33141691076553453, train accuracy: 0.9070833333333334, test accuracy: 0.9108\n",
      "Epoch: 11, error: 0.32378164750529365, train accuracy: 0.9088833333333334, test accuracy: 0.9124\n",
      "Epoch: 12, error: 0.31750513917595913, train accuracy: 0.9106666666666666, test accuracy: 0.914\n",
      "Epoch: 13, error: 0.3122416367891024, train accuracy: 0.9117833333333333, test accuracy: 0.9165\n",
      "Epoch: 14, error: 0.30774800392316126, train accuracy: 0.9130166666666667, test accuracy: 0.917\n",
      "Epoch: 15, error: 0.30385295683050767, train accuracy: 0.9140666666666667, test accuracy: 0.9181\n",
      "Epoch: 16, error: 0.3004328313917864, train accuracy: 0.915, test accuracy: 0.9186\n",
      "Epoch: 17, error: 0.29739678509479134, train accuracy: 0.9159333333333334, test accuracy: 0.9193\n",
      "Epoch: 18, error: 0.29467175222151065, train accuracy: 0.91655, test accuracy: 0.9198\n",
      "Epoch: 19, error: 0.2922061650064478, train accuracy: 0.91725, test accuracy: 0.9198\n",
      "Epoch: 20, error: 0.2899618310890338, train accuracy: 0.9178833333333334, test accuracy: 0.9205\n",
      "Epoch: 20, error: 0.2899618310890338, train accuracy: 0.9178833333333334, test accuracy: 0.9205\n",
      "Epoch: 21, error: 0.2879057076539526, train accuracy: 0.91865, test accuracy: 0.9213\n",
      "Epoch: 22, error: 0.28601115595872434, train accuracy: 0.9192666666666667, test accuracy: 0.9215\n",
      "Epoch: 23, error: 0.28425626135285326, train accuracy: 0.9198166666666666, test accuracy: 0.9225\n",
      "Epoch: 24, error: 0.28262440988720094, train accuracy: 0.9203333333333333, test accuracy: 0.923\n",
      "Epoch: 25, error: 0.28109965634381434, train accuracy: 0.9207666666666666, test accuracy: 0.9233\n",
      "Epoch: 26, error: 0.27967100562660646, train accuracy: 0.92095, test accuracy: 0.9238\n",
      "Epoch: 27, error: 0.278328181472378, train accuracy: 0.9214333333333333, test accuracy: 0.9234\n",
      "Epoch: 28, error: 0.2770620900789015, train accuracy: 0.9215833333333333, test accuracy: 0.9238\n",
      "Epoch: 29, error: 0.2758638680645578, train accuracy: 0.922, test accuracy: 0.9243\n",
      "Epoch: 30, error: 0.2747272449716913, train accuracy: 0.9222833333333333, test accuracy: 0.9246\n",
      "Epoch: 30, error: 0.2747272449716913, train accuracy: 0.9222833333333333, test accuracy: 0.9246\n",
      "Epoch: 31, error: 0.27364652382276805, train accuracy: 0.9225, test accuracy: 0.9246\n",
      "Epoch: 32, error: 0.2726156841763686, train accuracy: 0.92285, test accuracy: 0.9249\n",
      "Epoch: 33, error: 0.2716303670863346, train accuracy: 0.92315, test accuracy: 0.9249\n",
      "Epoch: 34, error: 0.2706865808371892, train accuracy: 0.9233, test accuracy: 0.9247\n",
      "Epoch: 35, error: 0.269780517994347, train accuracy: 0.92365, test accuracy: 0.9245\n",
      "Epoch: 36, error: 0.26890877162616145, train accuracy: 0.9237333333333333, test accuracy: 0.9247\n",
      "Epoch: 37, error: 0.26806828714176767, train accuracy: 0.92395, test accuracy: 0.9246\n",
      "Epoch: 38, error: 0.26725632035379104, train accuracy: 0.92415, test accuracy: 0.9245\n",
      "Epoch: 39, error: 0.2664704005617501, train accuracy: 0.92445, test accuracy: 0.925\n",
      "Epoch: 40, error: 0.2657082978390392, train accuracy: 0.9248166666666666, test accuracy: 0.9251\n",
      "Epoch: 40, error: 0.2657082978390392, train accuracy: 0.9248166666666666, test accuracy: 0.9251\n",
      "Epoch: 41, error: 0.2649675655655488, train accuracy: 0.9250333333333334, test accuracy: 0.9251\n",
      "Epoch: 42, error: 0.2642461498327621, train accuracy: 0.92515, test accuracy: 0.9251\n",
      "Epoch: 43, error: 0.26354300960814847, train accuracy: 0.9252833333333333, test accuracy: 0.9249\n",
      "Epoch: 44, error: 0.2628559174965613, train accuracy: 0.92545, test accuracy: 0.9247\n",
      "Epoch: 45, error: 0.2621841324884296, train accuracy: 0.9255666666666666, test accuracy: 0.9247\n",
      "Epoch: 46, error: 0.2615264620583186, train accuracy: 0.9257166666666666, test accuracy: 0.9246\n",
      "Epoch: 47, error: 0.2608814034695242, train accuracy: 0.926, test accuracy: 0.9249\n",
      "Epoch: 48, error: 0.2602474334311483, train accuracy: 0.92625, test accuracy: 0.9249\n",
      "Epoch: 49, error: 0.259624268363313, train accuracy: 0.9264166666666667, test accuracy: 0.9249\n",
      "Epoch: 50, error: 0.25901094732962393, train accuracy: 0.9266, test accuracy: 0.9247\n",
      "Epoch: 50, error: 0.25901094732962393, train accuracy: 0.9266, test accuracy: 0.9247\n",
      "Epoch: 51, error: 0.2584061870313732, train accuracy: 0.9267, test accuracy: 0.925\n",
      "Epoch: 52, error: 0.2578091257086413, train accuracy: 0.9267333333333333, test accuracy: 0.9253\n",
      "Epoch: 53, error: 0.2572194114366071, train accuracy: 0.9269333333333334, test accuracy: 0.9253\n",
      "Epoch: 54, error: 0.25663630368602175, train accuracy: 0.9269666666666667, test accuracy: 0.9255\n",
      "Epoch: 55, error: 0.2560591072115608, train accuracy: 0.9272, test accuracy: 0.9256\n",
      "Epoch: 56, error: 0.2554871695843008, train accuracy: 0.9272666666666667, test accuracy: 0.9257\n",
      "Epoch: 57, error: 0.25491987915688064, train accuracy: 0.92765, test accuracy: 0.9257\n",
      "Epoch: 58, error: 0.2543566633745751, train accuracy: 0.9276666666666666, test accuracy: 0.9259\n",
      "Epoch: 59, error: 0.25379698736242906, train accuracy: 0.9277666666666666, test accuracy: 0.9264\n",
      "Epoch: 60, error: 0.2532403527334353, train accuracy: 0.9280166666666667, test accuracy: 0.9264\n",
      "Epoch: 60, error: 0.2532403527334353, train accuracy: 0.9280166666666667, test accuracy: 0.9264\n",
      "Epoch: 61, error: 0.2526862965749289, train accuracy: 0.9280666666666667, test accuracy: 0.9264\n",
      "Epoch: 62, error: 0.2521343905796214, train accuracy: 0.9283, test accuracy: 0.9263\n",
      "Epoch: 63, error: 0.2515842402939256, train accuracy: 0.9284333333333333, test accuracy: 0.926\n",
      "Epoch: 64, error: 0.25103548445964513, train accuracy: 0.9286, test accuracy: 0.9261\n",
      "Epoch: 65, error: 0.2504877944262652, train accuracy: 0.9286166666666666, test accuracy: 0.9264\n",
      "Epoch: 66, error: 0.24994087361072856, train accuracy: 0.92875, test accuracy: 0.9263\n",
      "Epoch: 67, error: 0.24939377525734457, train accuracy: 0.9287666666666666, test accuracy: 0.9263\n",
      "Epoch: 68, error: 0.24884671139622655, train accuracy: 0.9290166666666667, test accuracy: 0.9262\n",
      "Epoch: 69, error: 0.24829967890260535, train accuracy: 0.9292333333333334, test accuracy: 0.9265\n",
      "Epoch: 70, error: 0.2477525067360959, train accuracy: 0.9293666666666667, test accuracy: 0.9268\n",
      "Epoch: 70, error: 0.2477525067360959, train accuracy: 0.9293666666666667, test accuracy: 0.9268\n",
      "Epoch: 71, error: 0.2472050531770779, train accuracy: 0.9294666666666667, test accuracy: 0.9267\n",
      "Epoch: 72, error: 0.2466572050772495, train accuracy: 0.9296666666666666, test accuracy: 0.9264\n",
      "Epoch: 73, error: 0.24610868631653898, train accuracy: 0.9298, test accuracy: 0.9264\n",
      "Epoch: 74, error: 0.2455594242196572, train accuracy: 0.93, test accuracy: 0.9266\n",
      "Epoch: 75, error: 0.2450095632188586, train accuracy: 0.93, test accuracy: 0.927\n",
      "Epoch: 76, error: 0.24445909599506702, train accuracy: 0.9300833333333334, test accuracy: 0.927\n",
      "Epoch: 77, error: 0.2439080391349716, train accuracy: 0.9303333333333333, test accuracy: 0.9273\n",
      "Epoch: 78, error: 0.24335616276121153, train accuracy: 0.93055, test accuracy: 0.9274\n",
      "Epoch: 79, error: 0.2428037773178086, train accuracy: 0.93055, test accuracy: 0.9275\n",
      "Epoch: 80, error: 0.24225057919465381, train accuracy: 0.9307, test accuracy: 0.9276\n",
      "Epoch: 80, error: 0.24225057919465381, train accuracy: 0.9307, test accuracy: 0.9276\n",
      "Epoch: 81, error: 0.24169702945404822, train accuracy: 0.9308166666666666, test accuracy: 0.9276\n",
      "Epoch: 82, error: 0.24114330653944685, train accuracy: 0.9309, test accuracy: 0.9275\n"
     ]
    },
    {
     "name": "stdout",
     "output_type": "stream",
     "text": [
      "Epoch: 83, error: 0.24058933671588723, train accuracy: 0.9312333333333334, test accuracy: 0.9275\n",
      "Epoch: 84, error: 0.2400351696942091, train accuracy: 0.9313333333333333, test accuracy: 0.9275\n",
      "Epoch: 85, error: 0.23948128909813965, train accuracy: 0.9314666666666667, test accuracy: 0.9273\n",
      "Epoch: 86, error: 0.23892788262121803, train accuracy: 0.9318666666666666, test accuracy: 0.9271\n",
      "Epoch: 87, error: 0.2383751510847348, train accuracy: 0.9319333333333333, test accuracy: 0.9273\n",
      "Epoch: 88, error: 0.23782330718831007, train accuracy: 0.9320833333333334, test accuracy: 0.9275\n",
      "Epoch: 89, error: 0.2372725742643006, train accuracy: 0.9321333333333334, test accuracy: 0.9273\n",
      "Epoch: 90, error: 0.23672318504470538, train accuracy: 0.9322833333333334, test accuracy: 0.927\n",
      "Epoch: 90, error: 0.23672318504470538, train accuracy: 0.9322833333333334, test accuracy: 0.927\n",
      "Epoch: 91, error: 0.23617538043434838, train accuracy: 0.9323833333333333, test accuracy: 0.9273\n",
      "Epoch: 92, error: 0.235629408265657, train accuracy: 0.9324, test accuracy: 0.927\n",
      "Epoch: 93, error: 0.23508552198627602, train accuracy: 0.93245, test accuracy: 0.927\n",
      "Epoch: 94, error: 0.2345439792212355, train accuracy: 0.9325666666666667, test accuracy: 0.9273\n",
      "Epoch: 95, error: 0.23400504015443804, train accuracy: 0.9325166666666667, test accuracy: 0.9275\n",
      "Epoch: 96, error: 0.2334689656643866, train accuracy: 0.9325166666666667, test accuracy: 0.9276\n",
      "Epoch: 97, error: 0.2329359115635042, train accuracy: 0.9326666666666666, test accuracy: 0.928\n",
      "Epoch: 98, error: 0.23240581500131052, train accuracy: 0.9329333333333333, test accuracy: 0.928\n",
      "Epoch: 99, error: 0.2318793214980882, train accuracy: 0.9331166666666667, test accuracy: 0.9279\n",
      "Epoch: 100, error: 0.23135616817292953, train accuracy: 0.9332666666666667, test accuracy: 0.9287\n",
      "Epoch: 100, error: 0.23135616817292953, train accuracy: 0.9332666666666667, test accuracy: 0.9287\n",
      "Epoch: 101, error: 0.2308371118504128, train accuracy: 0.9334166666666667, test accuracy: 0.9288\n",
      "Epoch: 102, error: 0.23032233826442836, train accuracy: 0.93365, test accuracy: 0.9286\n",
      "Epoch: 103, error: 0.22981207613481916, train accuracy: 0.9336666666666666, test accuracy: 0.9287\n",
      "Epoch: 104, error: 0.22930650127955238, train accuracy: 0.9338166666666666, test accuracy: 0.9289\n",
      "Epoch: 105, error: 0.22880576724403606, train accuracy: 0.934, test accuracy: 0.9288\n",
      "Epoch: 106, error: 0.2283100033090578, train accuracy: 0.9342, test accuracy: 0.9288\n",
      "Epoch: 107, error: 0.22781931285268564, train accuracy: 0.9344166666666667, test accuracy: 0.9289\n",
      "Epoch: 108, error: 0.2273334194125147, train accuracy: 0.9345666666666667, test accuracy: 0.9293\n",
      "Epoch: 109, error: 0.22685253670931316, train accuracy: 0.9347333333333333, test accuracy: 0.9292\n",
      "Epoch: 110, error: 0.22637685819532233, train accuracy: 0.9349666666666666, test accuracy: 0.9292\n",
      "Epoch: 110, error: 0.22637685819532233, train accuracy: 0.9349666666666666, test accuracy: 0.9292\n",
      "Epoch: 111, error: 0.22590637615812845, train accuracy: 0.9351666666666667, test accuracy: 0.9293\n",
      "Epoch: 112, error: 0.22544105527848707, train accuracy: 0.9352, test accuracy: 0.9296\n",
      "Epoch: 113, error: 0.22498083356364837, train accuracy: 0.9353833333333333, test accuracy: 0.9298\n",
      "Epoch: 114, error: 0.22452562360659067, train accuracy: 0.9355, test accuracy: 0.9297\n",
      "Epoch: 115, error: 0.22407531413978427, train accuracy: 0.9357333333333333, test accuracy: 0.9299\n",
      "Epoch: 116, error: 0.22362977185175165, train accuracy: 0.9357166666666666, test accuracy: 0.9301\n",
      "Epoch: 117, error: 0.22318884343052237, train accuracy: 0.9355666666666667, test accuracy: 0.9302\n",
      "Epoch: 118, error: 0.2227523578637666, train accuracy: 0.9357166666666666, test accuracy: 0.9302\n",
      "Epoch: 119, error: 0.22232012895335226, train accuracy: 0.93585, test accuracy: 0.9301\n",
      "Epoch: 120, error: 0.2218919580467533, train accuracy: 0.93605, test accuracy: 0.93\n",
      "Epoch: 120, error: 0.2218919580467533, train accuracy: 0.93605, test accuracy: 0.93\n",
      "Epoch: 121, error: 0.22146763692637922, train accuracy: 0.93625, test accuracy: 0.9301\n",
      "Epoch: 122, error: 0.2210469508258193, train accuracy: 0.9363333333333334, test accuracy: 0.9302\n",
      "Epoch: 123, error: 0.22062948978645036, train accuracy: 0.9364833333333333, test accuracy: 0.9306\n",
      "Epoch: 124, error: 0.22021503401879394, train accuracy: 0.9365666666666667, test accuracy: 0.9308\n",
      "Epoch: 125, error: 0.21980333016045897, train accuracy: 0.9368333333333333, test accuracy: 0.9311\n",
      "Epoch: 126, error: 0.21939418246925033, train accuracy: 0.9369166666666666, test accuracy: 0.9315\n",
      "Epoch: 127, error: 0.21898761445937148, train accuracy: 0.9370666666666667, test accuracy: 0.9313\n",
      "Epoch: 128, error: 0.2185826215180637, train accuracy: 0.9372166666666667, test accuracy: 0.9316\n",
      "Epoch: 129, error: 0.2181796022829389, train accuracy: 0.9372, test accuracy: 0.9317\n",
      "Epoch: 130, error: 0.2177786019069347, train accuracy: 0.9374666666666667, test accuracy: 0.9319\n",
      "Epoch: 130, error: 0.2177786019069347, train accuracy: 0.9374666666666667, test accuracy: 0.9319\n",
      "Epoch: 131, error: 0.21737946153396828, train accuracy: 0.9375333333333333, test accuracy: 0.932\n",
      "Epoch: 132, error: 0.21698203599067092, train accuracy: 0.9375, test accuracy: 0.932\n",
      "Epoch: 133, error: 0.21658619415900915, train accuracy: 0.9376333333333333, test accuracy: 0.9321\n",
      "Epoch: 134, error: 0.21619181905065968, train accuracy: 0.9379166666666666, test accuracy: 0.9325\n",
      "Epoch: 135, error: 0.21579880758662406, train accuracy: 0.9380666666666667, test accuracy: 0.9327\n",
      "Epoch: 136, error: 0.2154070701258793, train accuracy: 0.9382, test accuracy: 0.9327\n",
      "Epoch: 137, error: 0.21501652976982127, train accuracy: 0.93825, test accuracy: 0.9328\n",
      "Epoch: 138, error: 0.2146271214994939, train accuracy: 0.9383333333333334, test accuracy: 0.9329\n",
      "Epoch: 139, error: 0.2142387912037173, train accuracy: 0.9384333333333333, test accuracy: 0.9334\n",
      "Epoch: 140, error: 0.2138514946492137, train accuracy: 0.9388, test accuracy: 0.9334\n",
      "Epoch: 140, error: 0.2138514946492137, train accuracy: 0.9388, test accuracy: 0.9334\n",
      "Epoch: 141, error: 0.21346519643321124, train accuracy: 0.9388166666666666, test accuracy: 0.9336\n",
      "Epoch: 142, error: 0.21307986894672915, train accuracy: 0.939, test accuracy: 0.9337\n",
      "Epoch: 143, error: 0.21269549136314012, train accuracy: 0.9390833333333334, test accuracy: 0.9336\n",
      "Epoch: 144, error: 0.2123120486995123, train accuracy: 0.93925, test accuracy: 0.9336\n",
      "Epoch: 145, error: 0.21192953097355033, train accuracy: 0.9393166666666667, test accuracy: 0.9338\n",
      "Epoch: 146, error: 0.21154793253191478, train accuracy: 0.93945, test accuracy: 0.9338\n",
      "Epoch: 147, error: 0.2111672516242409, train accuracy: 0.9396, test accuracy: 0.9341\n",
      "Epoch: 148, error: 0.21078749029341048, train accuracy: 0.9397833333333333, test accuracy: 0.9341\n",
      "Epoch: 149, error: 0.2104086546234806, train accuracy: 0.9398166666666666, test accuracy: 0.9341\n",
      "Epoch: 150, error: 0.2100307553384763, train accuracy: 0.93985, test accuracy: 0.9341\n",
      "Epoch: 150, error: 0.2100307553384763, train accuracy: 0.93985, test accuracy: 0.9341\n",
      "Epoch: 151, error: 0.20965380868064454, train accuracy: 0.9399666666666666, test accuracy: 0.9339\n",
      "Epoch: 152, error: 0.20927783747564183, train accuracy: 0.9401166666666667, test accuracy: 0.9341\n",
      "Epoch: 153, error: 0.20890287222503748, train accuracy: 0.94035, test accuracy: 0.934\n",
      "Epoch: 154, error: 0.208528952095718, train accuracy: 0.9403333333333334, test accuracy: 0.9342\n",
      "Epoch: 155, error: 0.20815612568687142, train accuracy: 0.9404166666666667, test accuracy: 0.9342\n",
      "Epoch: 156, error: 0.2077844514789344, train accuracy: 0.94045, test accuracy: 0.9343\n",
      "Epoch: 157, error: 0.20741399794059429, train accuracy: 0.9405333333333333, test accuracy: 0.9344\n",
      "Epoch: 158, error: 0.2070448432894058, train accuracy: 0.94065, test accuracy: 0.9343\n",
      "Epoch: 159, error: 0.20667707491979354, train accuracy: 0.94085, test accuracy: 0.9345\n",
      "Epoch: 160, error: 0.2063107885684211, train accuracy: 0.9410833333333334, test accuracy: 0.9349\n",
      "Epoch: 160, error: 0.2063107885684211, train accuracy: 0.9410833333333334, test accuracy: 0.9349\n",
      "Epoch: 161, error: 0.20594608728366323, train accuracy: 0.9412666666666667, test accuracy: 0.935\n",
      "Epoch: 162, error: 0.2055830802508538, train accuracy: 0.9414333333333333, test accuracy: 0.9352\n"
     ]
    },
    {
     "name": "stdout",
     "output_type": "stream",
     "text": [
      "Epoch: 163, error: 0.20522188154827647, train accuracy: 0.9415166666666667, test accuracy: 0.9349\n",
      "Epoch: 164, error: 0.20486248395481949, train accuracy: 0.9416666666666667, test accuracy: 0.9351\n",
      "Epoch: 165, error: 0.20450451145114068, train accuracy: 0.94175, test accuracy: 0.9352\n",
      "Epoch: 166, error: 0.2041487004044432, train accuracy: 0.9418166666666666, test accuracy: 0.9351\n",
      "Epoch: 167, error: 0.20379505220124453, train accuracy: 0.9417833333333333, test accuracy: 0.9349\n",
      "Epoch: 168, error: 0.20344374931262962, train accuracy: 0.9419166666666666, test accuracy: 0.935\n",
      "Epoch: 169, error: 0.2030949495752367, train accuracy: 0.94205, test accuracy: 0.9352\n",
      "Epoch: 170, error: 0.20274876817712195, train accuracy: 0.9422666666666667, test accuracy: 0.9356\n",
      "Epoch: 170, error: 0.20274876817712195, train accuracy: 0.9422666666666667, test accuracy: 0.9356\n",
      "Epoch: 171, error: 0.20240531703772405, train accuracy: 0.9422666666666667, test accuracy: 0.9356\n",
      "Epoch: 172, error: 0.20206470415039102, train accuracy: 0.9423333333333334, test accuracy: 0.9357\n",
      "Epoch: 173, error: 0.20172703298296807, train accuracy: 0.9423333333333334, test accuracy: 0.936\n",
      "Epoch: 174, error: 0.20139240192822258, train accuracy: 0.9423666666666667, test accuracy: 0.936\n",
      "Epoch: 175, error: 0.2010609037989912, train accuracy: 0.9425333333333333, test accuracy: 0.9362\n",
      "Epoch: 176, error: 0.20073262536652658, train accuracy: 0.94265, test accuracy: 0.9363\n",
      "Epoch: 177, error: 0.2004076469441266, train accuracy: 0.9426, test accuracy: 0.9363\n",
      "Epoch: 178, error: 0.20008604202132077, train accuracy: 0.9426833333333333, test accuracy: 0.9366\n",
      "Epoch: 179, error: 0.19976787695636491, train accuracy: 0.9426666666666667, test accuracy: 0.9364\n",
      "Epoch: 180, error: 0.19945321073633313, train accuracy: 0.9426666666666667, test accuracy: 0.9361\n",
      "Epoch: 180, error: 0.19945321073633313, train accuracy: 0.9426666666666667, test accuracy: 0.9361\n",
      "Epoch: 181, error: 0.19914209481458703, train accuracy: 0.94285, test accuracy: 0.9359\n",
      "Epoch: 182, error: 0.19883457303670266, train accuracy: 0.9429833333333333, test accuracy: 0.936\n",
      "Epoch: 183, error: 0.19853068166112287, train accuracy: 0.9431333333333334, test accuracy: 0.9363\n",
      "Epoch: 184, error: 0.1982304494568992, train accuracy: 0.94315, test accuracy: 0.9365\n",
      "Epoch: 185, error: 0.19793389794566565, train accuracy: 0.9433166666666667, test accuracy: 0.9366\n",
      "Epoch: 186, error: 0.19764104171051158, train accuracy: 0.9433833333333334, test accuracy: 0.9368\n",
      "Epoch: 187, error: 0.1973518888120285, train accuracy: 0.9433833333333334, test accuracy: 0.937\n",
      "Epoch: 188, error: 0.19706644126405692, train accuracy: 0.9434666666666667, test accuracy: 0.9369\n",
      "Epoch: 189, error: 0.19678469562307235, train accuracy: 0.94355, test accuracy: 0.937\n",
      "Epoch: 190, error: 0.1965066435998824, train accuracy: 0.9435833333333333, test accuracy: 0.937\n",
      "Epoch: 190, error: 0.1965066435998824, train accuracy: 0.9435833333333333, test accuracy: 0.937\n",
      "Epoch: 191, error: 0.19623227272827964, train accuracy: 0.9436166666666667, test accuracy: 0.937\n",
      "Epoch: 192, error: 0.1959608963558347, train accuracy: 0.9436833333333333, test accuracy: 0.9373\n",
      "Epoch: 193, error: 0.19569221067675605, train accuracy: 0.9437333333333333, test accuracy: 0.9374\n",
      "Epoch: 194, error: 0.19542714602312283, train accuracy: 0.94375, test accuracy: 0.9375\n",
      "Epoch: 195, error: 0.19516568203531015, train accuracy: 0.9438166666666666, test accuracy: 0.9375\n",
      "Epoch: 196, error: 0.19490779761492108, train accuracy: 0.9439, test accuracy: 0.9373\n",
      "Epoch: 197, error: 0.1946534715255093, train accuracy: 0.9439166666666666, test accuracy: 0.9378\n",
      "Epoch: 198, error: 0.19440268294019472, train accuracy: 0.9440166666666666, test accuracy: 0.9379\n",
      "Epoch: 199, error: 0.19415541193782163, train accuracy: 0.944, test accuracy: 0.9379\n",
      "Epoch: 200, error: 0.1939116399715224, train accuracy: 0.9441333333333334, test accuracy: 0.938\n",
      "Epoch: 200, error: 0.1939116399715224, train accuracy: 0.9441333333333334, test accuracy: 0.938\n",
      "Epoch: 201, error: 0.19367130228984059, train accuracy: 0.9441666666666667, test accuracy: 0.9383\n",
      "Epoch: 202, error: 0.19343402408662977, train accuracy: 0.9443333333333334, test accuracy: 0.9385\n",
      "Epoch: 203, error: 0.19320020279613367, train accuracy: 0.9444666666666667, test accuracy: 0.9384\n",
      "Epoch: 204, error: 0.19296983004633883, train accuracy: 0.9445666666666667, test accuracy: 0.9388\n",
      "Epoch: 205, error: 0.1927429008817658, train accuracy: 0.9446, test accuracy: 0.9385\n",
      "Epoch: 206, error: 0.19251941414685222, train accuracy: 0.9447, test accuracy: 0.9385\n",
      "Epoch: 207, error: 0.19229937284962545, train accuracy: 0.94475, test accuracy: 0.9386\n",
      "Epoch: 208, error: 0.19208278449200478, train accuracy: 0.9447333333333333, test accuracy: 0.9388\n",
      "Epoch: 209, error: 0.19186966134789693, train accuracy: 0.9448166666666666, test accuracy: 0.9389\n",
      "Epoch: 210, error: 0.19166002067282195, train accuracy: 0.94485, test accuracy: 0.939\n",
      "Epoch: 210, error: 0.19166002067282195, train accuracy: 0.94485, test accuracy: 0.939\n",
      "Epoch: 211, error: 0.19145388478137973, train accuracy: 0.94505, test accuracy: 0.9394\n",
      "Epoch: 212, error: 0.19125128107825354, train accuracy: 0.94495, test accuracy: 0.9393\n",
      "Epoch: 213, error: 0.19105224197162354, train accuracy: 0.9450333333333333, test accuracy: 0.9393\n",
      "Epoch: 214, error: 0.1908568047260584, train accuracy: 0.9451333333333334, test accuracy: 0.9391\n",
      "Epoch: 215, error: 0.19066501128358102, train accuracy: 0.9451666666666667, test accuracy: 0.9389\n",
      "Epoch: 216, error: 0.1904769080598114, train accuracy: 0.9451833333333334, test accuracy: 0.9388\n",
      "Epoch: 217, error: 0.19029254578484178, train accuracy: 0.94525, test accuracy: 0.9386\n",
      "Epoch: 218, error: 0.19011197933907106, train accuracy: 0.9451833333333334, test accuracy: 0.9385\n",
      "Epoch: 219, error: 0.18993526756441742, train accuracy: 0.9453, test accuracy: 0.9386\n",
      "Epoch: 220, error: 0.18976247302105645, train accuracy: 0.94525, test accuracy: 0.9385\n",
      "Epoch: 220, error: 0.18976247302105645, train accuracy: 0.94525, test accuracy: 0.9385\n",
      "Epoch: 221, error: 0.18959366159601176, train accuracy: 0.9452, test accuracy: 0.939\n",
      "Epoch: 222, error: 0.1894289019058167, train accuracy: 0.9452333333333334, test accuracy: 0.9389\n",
      "Epoch: 223, error: 0.18926826441168842, train accuracy: 0.9454, test accuracy: 0.9389\n",
      "Epoch: 224, error: 0.18911182028274306, train accuracy: 0.9453, test accuracy: 0.9389\n",
      "Epoch: 225, error: 0.18895963996941836, train accuracy: 0.9453, test accuracy: 0.939\n",
      "Epoch: 226, error: 0.1888112007497406, train accuracy: 0.9453333333333334, test accuracy: 0.939\n",
      "Epoch: 227, error: 0.1886671539287469, train accuracy: 0.9454, test accuracy: 0.939\n",
      "Epoch: 228, error: 0.18852759581996245, train accuracy: 0.9454166666666667, test accuracy: 0.9392\n",
      "Epoch: 229, error: 0.1883925765929361, train accuracy: 0.9454166666666667, test accuracy: 0.9393\n",
      "Epoch: 230, error: 0.1882621370306623, train accuracy: 0.9455333333333333, test accuracy: 0.9394\n",
      "Epoch: 230, error: 0.1882621370306623, train accuracy: 0.9455333333333333, test accuracy: 0.9394\n",
      "Epoch: 231, error: 0.18813630710322435, train accuracy: 0.9455333333333333, test accuracy: 0.9394\n",
      "Epoch: 232, error: 0.18801510450175496, train accuracy: 0.9455166666666667, test accuracy: 0.9397\n",
      "Epoch: 233, error: 0.18789853307462, train accuracy: 0.94565, test accuracy: 0.9397\n",
      "Epoch: 234, error: 0.18778658112527996, train accuracy: 0.9456666666666667, test accuracy: 0.9397\n",
      "Epoch: 235, error: 0.187679219591168, train accuracy: 0.94575, test accuracy: 0.9393\n",
      "Epoch: 236, error: 0.18757640021569452, train accuracy: 0.9459166666666666, test accuracy: 0.939\n",
      "Epoch: 237, error: 0.18747805381965454, train accuracy: 0.94605, test accuracy: 0.9389\n"
     ]
    }
   ],
   "source": [
    "W, b = create_weights(architecture)\n",
    "batch_size = 1000\n",
    "W, b, errors, acc_train, acc_test,test_loss = train(X_train, y_train,X_test,y_test, num_classes =10, W = W, b=b,f=f,_lambda = 0.01 ,alpha=0.5 ,max_delta_error =1e-4)"
   ]
  },
  {
   "cell_type": "code",
   "execution_count": 91,
   "metadata": {
    "ExecuteTime": {
     "end_time": "2020-04-02T14:03:19.902932Z",
     "start_time": "2020-04-02T14:03:19.673520Z"
    }
   },
   "outputs": [
    {
     "data": {
      "image/png": "[encoded data removed]",
      "text/plain": [
       "<Figure size 720x576 with 1 Axes>"
      ]
     },
     "metadata": {
      "needs_background": "light"
     },
     "output_type": "display_data"
    }
   ],
   "source": [
    "plt.figure(figsize=(10, 8))\n",
    "plt.plot(errors, label='Loss on train DS')\n",
    "plt.xlabel('Epochs')\n",
    "plt.ylabel('Loss')\n",
    "plt.show()"
   ]
  },
  {
   "cell_type": "code",
   "execution_count": 92,
   "metadata": {},
   "outputs": [
    {
     "name": "stdout",
     "output_type": "stream",
     "text": [
      "0.18834417351795993\n"
     ]
    }
   ],
   "source": [
    "print(test_loss)"
   ]
  },
  {
   "cell_type": "code",
   "execution_count": 93,
   "metadata": {
    "ExecuteTime": {
     "end_time": "2020-04-02T14:08:45.594232Z",
     "start_time": "2020-04-02T14:08:45.419907Z"
    }
   },
   "outputs": [
    {
     "data": {
      "text/plain": [
       "[<matplotlib.lines.Line2D at 0x2a01f705848>]"
      ]
     },
     "execution_count": 93,
     "metadata": {},
     "output_type": "execute_result"
    },
    {
     "data": {
      "image/png": "[encoded data removed]",
      "text/plain": [
       "<Figure size 432x288 with 1 Axes>"
      ]
     },
     "metadata": {
      "needs_background": "light"
     },
     "output_type": "display_data"
    }
   ],
   "source": [
    "# acc_train, acc_test\n",
    "plt.plot(acc_train, label='Acc train')\n",
    "plt.plot(acc_test, label='Acc test')"
   ]
  },
  {
   "cell_type": "markdown",
   "metadata": {},
   "source": [
    "# Test model"
   ]
  },
  {
   "cell_type": "code",
   "execution_count": 94,
   "metadata": {
    "ExecuteTime": {
     "end_time": "2020-04-02T05:12:22.914348Z",
     "start_time": "2020-04-02T05:12:22.885426Z"
    }
   },
   "outputs": [
    {
     "name": "stdout",
     "output_type": "stream",
     "text": [
      "Accuracy on test set: 0.9446\n"
     ]
    }
   ],
   "source": [
    "print(f'Accuracy on test set: {accuracy(X_test, y_test, W,b,f)}')"
   ]
  },
  {
   "cell_type": "code",
   "execution_count": null,
   "metadata": {},
   "outputs": [],
   "source": []
  }
 ],
 "metadata": {
  "kernelspec": {
   "display_name": "Python 3",
   "language": "python",
   "name": "python3"
  },
  "language_info": {
   "codemirror_mode": {
    "name": "ipython",
    "version": 3
   },
   "file_extension": ".py",
   "mimetype": "text/x-python",
   "name": "python",
   "nbconvert_exporter": "python",
   "pygments_lexer": "ipython3",
   "version": "3.7.4"
  },
  "latex_envs": {
   "LaTeX_envs_menu_present": true,
   "autoclose": false,
   "autocomplete": true,
   "bibliofile": "biblio.bib",
   "cite_by": "apalike",
   "current_citInitial": 1,
   "eqLabelWithNumbers": true,
   "eqNumInitial": 1,
   "hotkeys": {
    "equation": "Ctrl-E",
    "itemize": "Ctrl-I"
   },
   "labels_anchors": false,
   "latex_user_defs": false,
   "report_style_numbering": false,
   "user_envs_cfg": false
  },
  "notify_time": "5",
  "toc": {
   "base_numbering": 1,
   "nav_menu": {},
   "number_sections": true,
   "sideBar": true,
   "skip_h1_title": false,
   "title_cell": "Table of Contents",
   "title_sidebar": "Contents",
   "toc_cell": false,
   "toc_position": {},
   "toc_section_display": true,
   "toc_window_display": false
  },
  "varInspector": {
   "cols": {
    "lenName": 16,
    "lenType": 16,
    "lenVar": 40
   },
   "kernels_config": {
    "python": {
     "delete_cmd_postfix": "",
     "delete_cmd_prefix": "del ",
     "library": "var_list.py",
     "varRefreshCmd": "print(var_dic_list())"
    },
    "r": {
     "delete_cmd_postfix": ") ",
     "delete_cmd_prefix": "rm(",
     "library": "var_list.r",
     "varRefreshCmd": "cat(var_dic_list()) "
    }
   },
   "types_to_exclude": [
    "module",
    "function",
    "builtin_function_or_method",
    "instance",
    "_Feature"
   ],
   "window_display": false
  }
 },
 "nbformat": 4,
 "nbformat_minor": 2
}
