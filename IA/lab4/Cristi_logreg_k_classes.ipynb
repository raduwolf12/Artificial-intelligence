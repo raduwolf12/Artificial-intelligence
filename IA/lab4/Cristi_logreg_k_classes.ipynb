{
 "cells": [
  {
   "cell_type": "markdown",
   "metadata": {},
   "source": [
    "# Load data, filtering"
   ]
  },
  {
   "cell_type": "code",
   "execution_count": 1,
   "metadata": {
    "ExecuteTime": {
     "end_time": "2020-03-16T15:26:59.104551Z",
     "start_time": "2020-03-16T15:26:58.253819Z"
    }
   },
   "outputs": [],
   "source": [
    "import numpy as np\n",
    "import pandas as pd\n",
    "import matplotlib.pyplot as plt\n",
    "\n",
    "from typing import Tuple, List"
   ]
  },
  {
   "cell_type": "code",
   "execution_count": 2,
   "metadata": {
    "ExecuteTime": {
     "end_time": "2020-03-16T15:26:59.115435Z",
     "start_time": "2020-03-16T15:26:59.108453Z"
    }
   },
   "outputs": [],
   "source": [
    "def load_file(path: str) -> Tuple[np.ndarray, np.ndarray]:\n",
    "    \"\"\"Loads the data from the file stored at :param path: and returns the \n",
    "    input values and the class labels.\n",
    "    :param path: path of a CVS file with data\n",
    "    :return: a tuple containing the input matrix of shape (m, n) and a column \n",
    "    vector with the m class labels in {0, ..., 9}\n",
    "    \"\"\"\n",
    "    df =np.loadtxt(path,delimiter=',')\n",
    "    X=df[:,1:]\n",
    "    y=df[:,0:1]\n",
    "    assert X.ndim ==  2, 'Matrix required for input values'\n",
    "    assert y.ndim == 2, 'Column matrix required for labels'\n",
    "    assert y.shape == (X.shape[0], 1), 'Same number of lines is required'\n",
    "    return X, y"
   ]
  },
  {
   "cell_type": "code",
   "execution_count": 3,
   "metadata": {
    "ExecuteTime": {
     "end_time": "2020-03-16T15:26:59.125409Z",
     "start_time": "2020-03-16T15:26:59.117428Z"
    }
   },
   "outputs": [],
   "source": [
    "path_train = './data/mnist_train.csv'\n",
    "path_test = './data/mnist_test.csv'"
   ]
  },
  {
   "cell_type": "code",
   "execution_count": 4,
   "metadata": {
    "ExecuteTime": {
     "end_time": "2020-03-16T15:27:02.909312Z",
     "start_time": "2020-03-16T15:26:59.128400Z"
    }
   },
   "outputs": [],
   "source": [
    "X_train, y_train = load_file(path_train)\n",
    "assert X_train.shape == (60000, 784)\n",
    "assert y_train.shape == (60000, 1)\n",
    "\n",
    "X_test, y_test = load_file(path_test)\n",
    "assert X_test.shape == (10000, 784)\n",
    "assert y_test.shape == (10000, 1)"
   ]
  },
  {
   "cell_type": "code",
   "execution_count": 5,
   "metadata": {
    "ExecuteTime": {
     "end_time": "2020-03-16T15:27:02.918267Z",
     "start_time": "2020-03-16T15:27:02.911284Z"
    }
   },
   "outputs": [],
   "source": [
    "\n",
    "def scale_values(X: np.ndarray) -> np.ndarray:\n",
    "    \"\"\"Scales the values to range [0, 1].\n",
    "    :param X: an (m, n) matrix with values between 0 and 255.\n",
    "    :return: an (m, n) matrix containing values of :param X: scaled in [0, 1]\n",
    "    \"\"\"\n",
    "    result = X/255\n",
    "    assert 0 <= np.min(result) <= np.max(result) <= 1, 'Scaled values should be in [0, 1]'\n",
    "    assert X.shape == result.shape, 'Scaling preserves shape'\n",
    "    return result"
   ]
  },
  {
   "cell_type": "code",
   "execution_count": 6,
   "metadata": {
    "ExecuteTime": {
     "end_time": "2020-03-16T15:27:03.198600Z",
     "start_time": "2020-03-16T15:27:02.921254Z"
    }
   },
   "outputs": [],
   "source": [
    "X_train = scale_values(X_train)\n",
    "assert X_train.shape == (60000, 784)\n",
    "X_test = scale_values(X_test)\n",
    "assert X_test.shape == (10000, 784)\n"
   ]
  },
  {
   "cell_type": "code",
   "execution_count": 7,
   "metadata": {
    "ExecuteTime": {
     "end_time": "2020-03-16T15:27:03.208779Z",
     "start_time": "2020-03-16T15:27:03.200800Z"
    }
   },
   "outputs": [],
   "source": [
    "def augment_matrix(X: np.ndarray) -> np.ndarray:\n",
    "    \"\"\"Creates the design matrix: the original matrix with a prepended column \n",
    "    of 1.\n",
    "    :param X: an (m, n) matrix. Each row contains the pixels of a digit.\n",
    "    :return: an ndarray of shape (X.shape[0], X.shape[1]+1)\n",
    "    \"\"\"\n",
    "    m = X.shape[0]\n",
    "    result =np.insert(X,0,1,axis=1)\n",
    "    assert result.shape == (X.shape[0], X.shape[1] + 1)\n",
    "    assert np.alltrue(result[:, 0] == 1), 'The first column should be filled with 1'\n",
    "    return result"
   ]
  },
  {
   "cell_type": "code",
   "execution_count": 8,
   "metadata": {
    "ExecuteTime": {
     "end_time": "2020-03-16T15:27:03.503989Z",
     "start_time": "2020-03-16T15:27:03.212768Z"
    }
   },
   "outputs": [],
   "source": [
    "X_train = augment_matrix(X_train)\n",
    "X_test = augment_matrix(X_test)"
   ]
  },
  {
   "cell_type": "markdown",
   "metadata": {
    "ExecuteTime": {
     "end_time": "2019-11-24T15:41:07.997557Z",
     "start_time": "2019-11-24T15:41:07.991110Z"
    }
   },
   "source": [
    "# Create model"
   ]
  },
  {
   "cell_type": "code",
   "execution_count": 9,
   "metadata": {
    "ExecuteTime": {
     "end_time": "2020-03-16T15:27:03.516959Z",
     "start_time": "2020-03-16T15:27:03.506981Z"
    }
   },
   "outputs": [],
   "source": [
    "k = 10 # number of classes\n",
    "m, n = X_train.shape # after augmentation"
   ]
  },
  {
   "cell_type": "code",
   "execution_count": 10,
   "metadata": {
    "ExecuteTime": {
     "end_time": "2020-03-16T15:27:03.530917Z",
     "start_time": "2020-03-16T15:27:03.521942Z"
    }
   },
   "outputs": [],
   "source": [
    "def softmax(z, axis=1):\n",
    "    \"\"\"Applies softmax to a matrix z.\n",
    "    :param z: np.array of shape (m, k)\n",
    "    :return: np.array of shape (m, k) containing in cell (i, j): P(class=j|input i)\n",
    "    \"\"\"\n",
    "    max_z = np.max(z, axis=axis, keepdims=True)\n",
    "    exp_z =np.exp(z-max_z)\n",
    "    sum_exp_z =np.sum(exp_z,axis=1).reshape((-1,1))\n",
    "    result = exp_z/sum_exp_z\n",
    "    assert exp_z.shape == z.shape\n",
    "    assert np.allclose(np.sum(result, axis=1), 1)\n",
    "    return result"
   ]
  },
  {
   "cell_type": "code",
   "execution_count": 11,
   "metadata": {
    "ExecuteTime": {
     "end_time": "2020-03-16T15:27:03.542885Z",
     "start_time": "2020-03-16T15:27:03.535908Z"
    }
   },
   "outputs": [],
   "source": [
    "def can_multiply(a, b):\n",
    "    return a.ndim == b.ndim == 2 and a.shape[1] == b.shape[0]"
   ]
  },
  {
   "cell_type": "code",
   "execution_count": 12,
   "metadata": {
    "ExecuteTime": {
     "end_time": "2020-03-16T15:27:03.552864Z",
     "start_time": "2020-03-16T15:27:03.544879Z"
    }
   },
   "outputs": [],
   "source": [
    "def model(X, theta):\n",
    "    \"\"\"\n",
    "    :param X: np.array of shape (m, n)\n",
    "    :param theta: np.array of shape (n, k)\n",
    "    :return: np.array of shape (m, k) containing in cell (i, j): P(class=j|input i)\n",
    "    \"\"\"\n",
    "    assert can_multiply(X, theta)\n",
    "    result=softmax(np.dot(X,theta))\n",
    "    return result"
   ]
  },
  {
   "cell_type": "code",
   "execution_count": 13,
   "metadata": {
    "ExecuteTime": {
     "end_time": "2020-03-16T15:27:03.577791Z",
     "start_time": "2020-03-16T15:27:03.564828Z"
    }
   },
   "outputs": [],
   "source": [
    "def J(X, y, num_classes, theta, _lambda):\n",
    "    \"\"\"Computes the error function for multinomial logisitc regression\n",
    "    :param X: np.array of shape (m, n)\n",
    "    :param y: np.array of shape (m, 1)\n",
    "    :param theta: np.array of shape (n, k) \n",
    "    :return: loss values, ocmposed of cross entropy + penalty term\n",
    "    \"\"\"\n",
    "    m = X.shape[0]\n",
    "    EPS = 1e-6\n",
    "    # computes a one hot encoding for the griven classes:\n",
    "    # if y[i]=c, 0 <= c <= 9 (here), then line i in one_hot_encoding is filled\n",
    "    # in with 0, excepting column c where one can find value 1\n",
    "    j=np.arange(m)\n",
    "    one_hot_encoding = np.zeros((m, num_classes))\n",
    "#     one_hot_encoding[j,y[j,0].astype(int)]=1\n",
    "    one_hot_encoding[np.arange(m),y[np.arange(m),0].astype(int)]=1\n",
    "\n",
    "    assert np.all(one_hot_encoding.sum(axis=1) == 1)\n",
    "    predicted = model(X,theta)\n",
    "    predicted = np.clip(predicted, EPS, 1-EPS) # se evita valori care duc la log(0)\n",
    "    log_predicted = np.log(predicted)\n",
    "    temp = one_hot_encoding*log_predicted\n",
    "    loss1 = -temp.sum() / m # calcul valoare medie a erorii\n",
    "    loss2 = (_lambda/(2*m))*np.sum((theta[1:,:]*theta[1:,:]))\n",
    "    return loss1 + loss2"
   ]
  },
  {
   "cell_type": "code",
   "execution_count": 14,
   "metadata": {
    "ExecuteTime": {
     "end_time": "2020-03-16T15:27:03.599736Z",
     "start_time": "2020-03-16T15:27:03.590756Z"
    }
   },
   "outputs": [],
   "source": [
    "def gradient(X, theta, y, num_classes, _lambda):\n",
    "    \"\"\"\n",
    "    :param X: np.array of shape (m, n)\n",
    "    :param theta: np.array of shape (n, k)\n",
    "    :param y: np.array of shape (m, 1)\n",
    "    :return: np.array of shape (n, k)\n",
    "    \"\"\"\n",
    "    \n",
    "    m, n = X.shape\n",
    "    j=np.arange(m)\n",
    "    one_hot_encoding = np.zeros((m, num_classes))\n",
    "    one_hot_encoding[j,y[j,0].astype(int)]=1\n",
    "    predicted = model(X,theta)\n",
    "    grad =np.dot(np.transpose(X),one_hot_encoding-predicted)/(-m)\n",
    "    grad[1:,:]+=((_lambda/m)*theta)[1:,:]\n",
    "    \n",
    "    return grad"
   ]
  },
  {
   "cell_type": "code",
   "execution_count": 15,
   "metadata": {
    "ExecuteTime": {
     "end_time": "2020-03-16T15:37:11.745324Z",
     "start_time": "2020-03-16T15:37:11.740308Z"
    }
   },
   "outputs": [],
   "source": [
    "def accuracy(X:np.array, y:np.array, theta:np.array) -> float:\n",
    "    \"\"\"Computes the accuracy on a given input dataset X, with ground truth y\n",
    "    :param X: np.array of shape (m, n)\n",
    "    :param y: np.array of shape (m, 1); each value is the index of a class\n",
    "    :param theta: np.array of shape (n, k) with weights\n",
    "    :return: ratio between correcly classified cases and total number of classes\n",
    "    \"\"\"\n",
    "    y_hat = model(X,theta)\n",
    "    y_predicted = np.reshape(np.argmax(y_hat,axis=1),y.shape)\n",
    "    return (y_predicted == y).sum() / X.shape[0]"
   ]
  },
  {
   "cell_type": "code",
   "execution_count": 16,
   "metadata": {},
   "outputs": [
    {
     "data": {
      "text/plain": [
       "(60000, 1)"
      ]
     },
     "execution_count": 16,
     "metadata": {},
     "output_type": "execute_result"
    }
   ],
   "source": [
    "y_train.shape\n",
    "# np.argmax(model(X_train,theta),axis=1)\n",
    "# np.reshape(np.argmax(model(X_train,theta),axis=1),y_train.shape[-1])"
   ]
  },
  {
   "cell_type": "markdown",
   "metadata": {},
   "source": [
    "# Train model"
   ]
  },
  {
   "cell_type": "code",
   "execution_count": 17,
   "metadata": {
    "ExecuteTime": {
     "end_time": "2020-03-16T15:27:03.638628Z",
     "start_time": "2020-03-16T15:27:03.617686Z"
    }
   },
   "outputs": [],
   "source": [
    "\n",
    "def train(X: np.array, y: np.array, num_classes, theta_init: np.array, _lambda: float, alpha: float, max_delta_error:float=1e-4) -> Tuple[np.array, List[float], List[float], List[float]]:\n",
    "    \"\"\"Runs the training on the training dataset (X, y). Stops when  \n",
    "    difference between  two succesive error values is lower than :param max_delta_error:\n",
    "    :param X: np.array of shape (m, n), with training cases. Each row is a traininv case\n",
    "    :param y: np.array of shape (m, 1), containing labels (0=class 0, ...)\n",
    "    :param theta_init: np.array of shape (n, k), initial weights\n",
    "    :param _lambda: coefficient >= for the L2 penalty term\n",
    "    :param num_classes: number of classes\n",
    "    :param alpha: > 0, learning rate\n",
    "    :max_delta_error: >0, a threshold for max absolute difference of succesive loss values\n",
    "    :return: a tuple consisting of: weight matrix, list of errors computed at each epoch, 2 lists of accuracies on training and on test set at each epoch\n",
    "    \"\"\"\n",
    "    theta = theta_init\n",
    "    errors = [J(X, y, num_classes, theta, _lambda)]\n",
    "    acc_train = [accuracy(X_train, y_train, theta)]\n",
    "    acc_test = [accuracy(X_test, y_test, theta)]\n",
    "    epoch = 0\n",
    "    while True:\n",
    "        epoch += 1\n",
    "        theta += -alpha * gradient(X=X, theta=theta, y=y, num_classes=num_classes, _lambda = _lambda)\n",
    "        error = J(X, y, num_classes, theta, _lambda)\n",
    "        errors.append(error)\n",
    "        train_acc = accuracy(X_train, y_train, theta)\n",
    "        acc_train.append(train_acc)\n",
    "        test_acc = accuracy(X_test, y_test, theta)\n",
    "        acc_test.append(test_acc)\n",
    "        if epoch % 10 == 0:\n",
    "            print(f'Epoch: {epoch}, error: {error}, accuracy_train: {train_acc}, accuracy_test: {test_acc}')\n",
    "        if  np.abs(errors[-1] - errors[-2]) < max_delta_error:\n",
    "            break\n",
    "    return theta, errors"
   ]
  },
  {
   "cell_type": "code",
   "execution_count": 18,
   "metadata": {
    "ExecuteTime": {
     "end_time": "2020-03-16T15:29:22.830309Z",
     "start_time": "2020-03-16T15:27:03.640624Z"
    }
   },
   "outputs": [
    {
     "name": "stdout",
     "output_type": "stream",
     "text": [
      "Epoch: 10, error: 0.7814931363584073, accuracy_train: 0.8392666666666667, accuracy_test: 0.8471\n",
      "Epoch: 20, error: 0.6021322470229893, accuracy_train: 0.8612833333333333, accuracy_test: 0.8704\n",
      "Epoch: 30, error: 0.5287938215016824, accuracy_train: 0.8706833333333334, accuracy_test: 0.8795\n",
      "Epoch: 40, error: 0.4869374124042889, accuracy_train: 0.8771166666666667, accuracy_test: 0.8857\n",
      "Epoch: 50, error: 0.4591632140260326, accuracy_train: 0.8817833333333334, accuracy_test: 0.8894\n",
      "Epoch: 60, error: 0.43904763877793446, accuracy_train: 0.8855333333333333, accuracy_test: 0.8932\n",
      "Epoch: 70, error: 0.42362129525676784, accuracy_train: 0.8885333333333333, accuracy_test: 0.895\n",
      "Epoch: 80, error: 0.4113049545049235, accuracy_train: 0.8907, accuracy_test: 0.8988\n",
      "Epoch: 90, error: 0.401173617933741, accuracy_train: 0.8928166666666667, accuracy_test: 0.8996\n",
      "Epoch: 100, error: 0.39264577899302106, accuracy_train: 0.8946166666666666, accuracy_test: 0.9012\n",
      "Epoch: 110, error: 0.38533552559542106, accuracy_train: 0.8961, accuracy_test: 0.9029\n",
      "Epoch: 120, error: 0.3789755377024391, accuracy_train: 0.8975666666666666, accuracy_test: 0.9037\n",
      "Epoch: 130, error: 0.3733740908330831, accuracy_train: 0.8985666666666666, accuracy_test: 0.9049\n",
      "Epoch: 140, error: 0.3683896603842128, accuracy_train: 0.8997666666666667, accuracy_test: 0.9062\n",
      "Epoch: 150, error: 0.3639152130996098, accuracy_train: 0.9009166666666667, accuracy_test: 0.9069\n",
      "Epoch: 160, error: 0.35986541896475593, accuracy_train: 0.90165, accuracy_test: 0.9076\n",
      "Epoch: 170, error: 0.3561778839314983, accuracy_train: 0.9024166666666666, accuracy_test: 0.908\n",
      "Epoch: 180, error: 0.3528010591433121, accuracy_train: 0.903, accuracy_test: 0.9089\n",
      "Epoch: 190, error: 0.3496929433995473, accuracy_train: 0.9035833333333333, accuracy_test: 0.9093\n",
      "Epoch: 200, error: 0.3468191224699911, accuracy_train: 0.9042666666666667, accuracy_test: 0.9096\n",
      "Epoch: 210, error: 0.3441504674161498, accuracy_train: 0.905, accuracy_test: 0.9104\n",
      "Epoch: 220, error: 0.3416626324213167, accuracy_train: 0.9057, accuracy_test: 0.9107\n",
      "Epoch: 230, error: 0.3393367092009559, accuracy_train: 0.90615, accuracy_test: 0.9113\n",
      "Epoch: 240, error: 0.33715557556426407, accuracy_train: 0.9067, accuracy_test: 0.9122\n",
      "Epoch: 250, error: 0.3351045602800447, accuracy_train: 0.9072333333333333, accuracy_test: 0.913\n",
      "Epoch: 260, error: 0.33317100808945743, accuracy_train: 0.9077833333333334, accuracy_test: 0.9134\n",
      "Epoch: 270, error: 0.3313439355948996, accuracy_train: 0.90825, accuracy_test: 0.9133\n",
      "Epoch: 280, error: 0.3296137564079522, accuracy_train: 0.9087666666666666, accuracy_test: 0.9136\n",
      "Epoch: 290, error: 0.32797205966163745, accuracy_train: 0.9090666666666667, accuracy_test: 0.9144\n",
      "Epoch: 300, error: 0.3264114300569127, accuracy_train: 0.9096166666666666, accuracy_test: 0.9144\n",
      "Epoch: 310, error: 0.32492530053913393, accuracy_train: 0.91005, accuracy_test: 0.915\n",
      "Epoch: 320, error: 0.323507830832285, accuracy_train: 0.9103833333333333, accuracy_test: 0.915\n",
      "Epoch: 330, error: 0.3221538066302531, accuracy_train: 0.9106166666666666, accuracy_test: 0.9154\n",
      "Epoch: 340, error: 0.32085855541508645, accuracy_train: 0.9107833333333333, accuracy_test: 0.9153\n",
      "Epoch: 350, error: 0.31961787575291606, accuracy_train: 0.9111333333333334, accuracy_test: 0.9158\n",
      "Epoch: 360, error: 0.3184279775870332, accuracy_train: 0.9115166666666666, accuracy_test: 0.9158\n",
      "Epoch: 370, error: 0.31728543155988287, accuracy_train: 0.9118, accuracy_test: 0.9161\n",
      "Epoch: 380, error: 0.31618712579136016, accuracy_train: 0.9121333333333334, accuracy_test: 0.9165\n",
      "Epoch: 390, error: 0.31513022884863306, accuracy_train: 0.9123833333333333, accuracy_test: 0.9165\n",
      "Epoch: 400, error: 0.31411215788402974, accuracy_train: 0.91275, accuracy_test: 0.9168\n"
     ]
    }
   ],
   "source": [
    "theta = np.zeros((n, k))\n",
    "\n",
    "\n",
    "theta, errors= train(X=X_train, y=y_train, num_classes = 10, theta_init=theta, _lambda=0.0, alpha=0.5)"
   ]
  },
  {
   "cell_type": "code",
   "execution_count": 55,
   "metadata": {
    "ExecuteTime": {
     "end_time": "2020-03-16T15:29:23.053713Z",
     "start_time": "2020-03-16T15:29:22.832306Z"
    }
   },
   "outputs": [
    {
     "data": {
      "image/png": "[encoded data removed]",
      "text/plain": [
       "<Figure size 720x576 with 1 Axes>"
      ]
     },
     "metadata": {
      "needs_background": "light"
     },
     "output_type": "display_data"
    }
   ],
   "source": [
    "plt.figure(figsize=(10, 8))\n",
    "plt.plot(errors)\n",
    "plt.xlabel('Epochs')\n",
    "plt.ylabel('Loss')\n",
    "plt.show()"
   ]
  },
  {
   "cell_type": "markdown",
   "metadata": {},
   "source": [
    "# Test model"
   ]
  },
  {
   "cell_type": "code",
   "execution_count": 56,
   "metadata": {
    "ExecuteTime": {
     "end_time": "2020-03-16T15:37:43.343843Z",
     "start_time": "2020-03-16T15:37:43.317921Z"
    }
   },
   "outputs": [
    {
     "name": "stdout",
     "output_type": "stream",
     "text": [
      "Epoch: 10, error: 0.2962503672947223, accuracy_train: 0.9125333333333333, accuracy_test: 0.918\n",
      "Epoch: 20, error: 0.2918316425209, accuracy_train: 0.9123166666666667, accuracy_test: 0.9192\n",
      "Epoch: 30, error: 0.288178391133074, accuracy_train: 0.91225, accuracy_test: 0.9201\n",
      "Epoch: 40, error: 0.2850314041916261, accuracy_train: 0.9122333333333333, accuracy_test: 0.9212\n",
      "Epoch: 50, error: 0.2822453416744366, accuracy_train: 0.912, accuracy_test: 0.9218\n",
      "Epoch: 60, error: 0.2797304777615594, accuracy_train: 0.91165, accuracy_test: 0.9222\n",
      "Epoch: 70, error: 0.2774280142212058, accuracy_train: 0.9116666666666666, accuracy_test: 0.9233\n",
      "Epoch: 80, error: 0.2752974251958669, accuracy_train: 0.9115833333333333, accuracy_test: 0.9239\n",
      "Epoch: 90, error: 0.273309561805221, accuracy_train: 0.91155, accuracy_test: 0.9244\n",
      "Epoch: 100, error: 0.27144269624378053, accuracy_train: 0.9114833333333333, accuracy_test: 0.9248\n",
      "Epoch: 110, error: 0.26968014203109353, accuracy_train: 0.9115833333333333, accuracy_test: 0.9256\n",
      "Epoch: 120, error: 0.2680087594048998, accuracy_train: 0.9117166666666666, accuracy_test: 0.9256\n",
      "Epoch: 130, error: 0.26641797992212257, accuracy_train: 0.91145, accuracy_test: 0.9256\n",
      "Epoch: 140, error: 0.2648991481324688, accuracy_train: 0.9112833333333333, accuracy_test: 0.9258\n",
      "Epoch: 150, error: 0.263445064068853, accuracy_train: 0.91105, accuracy_test: 0.9266\n",
      "Epoch: 160, error: 0.26204965710749056, accuracy_train: 0.9109, accuracy_test: 0.9273\n",
      "Epoch: 170, error: 0.26070774824312376, accuracy_train: 0.9108666666666667, accuracy_test: 0.9273\n",
      "Epoch: 180, error: 0.25941487336651686, accuracy_train: 0.9107333333333333, accuracy_test: 0.9278\n",
      "Epoch: 190, error: 0.25816714955802295, accuracy_train: 0.9107, accuracy_test: 0.9283\n",
      "Epoch: 200, error: 0.2569611723049093, accuracy_train: 0.9106333333333333, accuracy_test: 0.9285\n",
      "Epoch: 210, error: 0.2557939353366693, accuracy_train: 0.9107, accuracy_test: 0.9292\n",
      "Epoch: 220, error: 0.2546627672643853, accuracy_train: 0.9105666666666666, accuracy_test: 0.9295\n",
      "Epoch: 230, error: 0.25356528088514363, accuracy_train: 0.9106, accuracy_test: 0.9307\n",
      "Epoch: 240, error: 0.25249933215959697, accuracy_train: 0.9106166666666666, accuracy_test: 0.931\n",
      "Epoch: 250, error: 0.2514629866695541, accuracy_train: 0.9106666666666666, accuracy_test: 0.9314\n"
     ]
    }
   ],
   "source": [
    "theta2, errors2= train(X=X_test, y=y_test, num_classes = 10, theta_init=theta, _lambda=0.0, alpha=0.5,max_delta_error=1e-4)"
   ]
  },
  {
   "cell_type": "code",
   "execution_count": 57,
   "metadata": {},
   "outputs": [
    {
     "data": {
      "image/png": "[encoded data removed]",
      "text/plain": [
       "<Figure size 720x576 with 1 Axes>"
      ]
     },
     "metadata": {
      "needs_background": "light"
     },
     "output_type": "display_data"
    }
   ],
   "source": [
    "plt.figure(figsize=(10, 8))\n",
    "plt.plot(errors2)\n",
    "plt.xlabel('Epochs')\n",
    "plt.ylabel('Loss')\n",
    "plt.show()"
   ]
  }
 ],
 "metadata": {
  "kernelspec": {
   "display_name": "Python 3",
   "language": "python",
   "name": "python3"
  },
  "language_info": {
   "codemirror_mode": {
    "name": "ipython",
    "version": 3
   },
   "file_extension": ".py",
   "mimetype": "text/x-python",
   "name": "python",
   "nbconvert_exporter": "python",
   "pygments_lexer": "ipython3",
   "version": "3.7.4"
  },
  "latex_envs": {
   "LaTeX_envs_menu_present": true,
   "autoclose": false,
   "autocomplete": true,
   "bibliofile": "biblio.bib",
   "cite_by": "apalike",
   "current_citInitial": 1,
   "eqLabelWithNumbers": true,
   "eqNumInitial": 1,
   "hotkeys": {
    "equation": "Ctrl-E",
    "itemize": "Ctrl-I"
   },
   "labels_anchors": false,
   "latex_user_defs": false,
   "report_style_numbering": false,
   "user_envs_cfg": false
  },
  "notify_time": "5",
  "toc": {
   "base_numbering": 1,
   "nav_menu": {},
   "number_sections": true,
   "sideBar": true,
   "skip_h1_title": false,
   "title_cell": "Table of Contents",
   "title_sidebar": "Contents",
   "toc_cell": false,
   "toc_position": {},
   "toc_section_display": true,
   "toc_window_display": false
  },
  "varInspector": {
   "cols": {
    "lenName": 16,
    "lenType": 16,
    "lenVar": 40
   },
   "kernels_config": {
    "python": {
     "delete_cmd_postfix": "",
     "delete_cmd_prefix": "del ",
     "library": "var_list.py",
     "varRefreshCmd": "print(var_dic_list())"
    },
    "r": {
     "delete_cmd_postfix": ") ",
     "delete_cmd_prefix": "rm(",
     "library": "var_list.r",
     "varRefreshCmd": "cat(var_dic_list()) "
    }
   },
   "types_to_exclude": [
    "module",
    "function",
    "builtin_function_or_method",
    "instance",
    "_Feature"
   ],
   "window_display": false
  }
 },
 "nbformat": 4,
 "nbformat_minor": 2
}
